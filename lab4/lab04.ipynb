{
 "cells": [
  {
   "cell_type": "code",
   "execution_count": 1,
   "metadata": {},
   "outputs": [],
   "source": [
    "import pandas as pd\n",
    "from sklearn.model_selection import train_test_split\n",
    "from sklearn.preprocessing import MinMaxScaler\n",
    "from sklearn.linear_model import Perceptron\n",
    "from sklearn.preprocessing import StandardScaler\n",
    "from sklearn.neural_network import MLPClassifier\n",
    "from sklearn.metrics import accuracy_score"
   ]
  },
  {
   "cell_type": "code",
   "execution_count": 2,
   "metadata": {},
   "outputs": [
    {
     "data": {
      "text/plain": [
       "0         1\n",
       "1         1\n",
       "2         1\n",
       "3         1\n",
       "4         1\n",
       "         ..\n",
       "58503    11\n",
       "58504    11\n",
       "58505    11\n",
       "58506    11\n",
       "58507    11\n",
       "Name: 1, Length: 58508, dtype: int64"
      ]
     },
     "execution_count": 2,
     "metadata": {},
     "output_type": "execute_result"
    }
   ],
   "source": [
    "data = pd.read_csv('Sensorless_drive_diagnosis.csv', delimiter=' ')\n",
    "X_data = data.iloc[:, :-1]  # Выбираем все столбцы кроме последнего как признаки\n",
    "Y_data = data.iloc[:, -1]   # Последний столбец как целевая переменная\n",
    "Y_data"
   ]
  },
  {
   "cell_type": "code",
   "execution_count": 3,
   "metadata": {},
   "outputs": [
    {
     "data": {
      "text/plain": [
       "49106    10\n",
       "57884    11\n",
       "3154      1\n",
       "53910    11\n",
       "52451    10\n",
       "         ..\n",
       "53375    11\n",
       "55602    11\n",
       "21905     5\n",
       "1418      1\n",
       "41529     8\n",
       "Name: 1, Length: 11702, dtype: int64"
      ]
     },
     "execution_count": 3,
     "metadata": {},
     "output_type": "execute_result"
    }
   ],
   "source": [
    "X_train, X_test, y_train, y_test = train_test_split(X_data, Y_data, test_size=0.2, random_state=42)\n",
    "y_test"
   ]
  },
  {
   "cell_type": "code",
   "execution_count": 4,
   "metadata": {},
   "outputs": [],
   "source": [
    "scaler = MinMaxScaler(feature_range=(0, 1))\n",
    "scaler.fit(X_train)\n",
    "X_train = scaler.transform(X_train)\n",
    "X_test = scaler.transform(X_test)\n"
   ]
  },
  {
   "cell_type": "code",
   "execution_count": 12,
   "metadata": {},
   "outputs": [
    {
     "name": "stdout",
     "output_type": "stream",
     "text": [
      "Точность модели Perceptron: 0.4641941548453256\n"
     ]
    }
   ],
   "source": [
    "p = Perceptron(penalty='l1', alpha=0.00001)\n",
    "p.fit(X_train, y_train)\n",
    "y_pred = p.predict(X_test)\n",
    "accuracy = accuracy_score(y_test, y_pred)\n",
    "print(f'Точность модели Perceptron: {accuracy}')"
   ]
  },
  {
   "cell_type": "code",
   "execution_count": 15,
   "metadata": {},
   "outputs": [
    {
     "name": "stderr",
     "output_type": "stream",
     "text": [
      "c:\\Users\\solda\\VsCodeProjects\\ML\\venv\\Lib\\site-packages\\sklearn\\neural_network\\_multilayer_perceptron.py:691: ConvergenceWarning: Stochastic Optimizer: Maximum iterations (200) reached and the optimization hasn't converged yet.\n",
      "  warnings.warn(\n"
     ]
    },
    {
     "name": "stdout",
     "output_type": "stream",
     "text": [
      "Точность модели с градиентным спуском: 0.8331909075371732\n"
     ]
    },
    {
     "name": "stderr",
     "output_type": "stream",
     "text": [
      "c:\\Users\\solda\\VsCodeProjects\\ML\\venv\\Lib\\site-packages\\sklearn\\neural_network\\_multilayer_perceptron.py:691: ConvergenceWarning: Stochastic Optimizer: Maximum iterations (200) reached and the optimization hasn't converged yet.\n",
      "  warnings.warn(\n"
     ]
    },
    {
     "name": "stdout",
     "output_type": "stream",
     "text": [
      "Точность модели с оптимизатором Adam: 0.8813023414800889\n",
      "Точность модели с оптимизатором LBFGS: 0.8364382156896257\n"
     ]
    },
    {
     "name": "stderr",
     "output_type": "stream",
     "text": [
      "c:\\Users\\solda\\VsCodeProjects\\ML\\venv\\Lib\\site-packages\\sklearn\\neural_network\\_multilayer_perceptron.py:546: ConvergenceWarning: lbfgs failed to converge (status=1):\n",
      "STOP: TOTAL NO. of ITERATIONS REACHED LIMIT.\n",
      "\n",
      "Increase the number of iterations (max_iter) or scale the data as shown in:\n",
      "    https://scikit-learn.org/stable/modules/preprocessing.html\n",
      "  self.n_iter_ = _check_optimize_result(\"lbfgs\", opt_res, self.max_iter)\n"
     ]
    }
   ],
   "source": [
    "def optimizewithsgd(Xtrain, ytrain, Xtest, ytest):\n",
    "    clf = MLPClassifier(hidden_layer_sizes=20, learning_rate='adaptive', alpha=0.1, solver='sgd')\n",
    "    clf.fit(Xtrain, ytrain)\n",
    "    ypred = clf.predict(Xtest)\n",
    "    accuracy = accuracy_score(ytest, ypred)\n",
    "    print(f'Точность модели с sgd: {accuracy}')\n",
    "\n",
    "\n",
    "def optimizewithadam(Xtrain, ytrain, Xtest, ytest):\n",
    "    clf = MLPClassifier(hidden_layer_sizes=20, learning_rate='adaptive', alpha=0.1, solver='adam')\n",
    "    clf.fit(Xtrain, ytrain)\n",
    "    ypred = clf.predict(Xtest)\n",
    "    accuracy = accuracy_score(ytest, ypred)\n",
    "    print(f'Точность модели с оптимизатором Adam: {accuracy}')\n",
    "\n",
    "\n",
    "def optimizewithlbfgs(Xtrain, ytrain, Xtest, ytest):\n",
    "    clf = MLPClassifier(hidden_layer_sizes=20, learning_rate='adaptive', alpha=0.1, solver='lbfgs')\n",
    "    clf.fit(Xtrain, ytrain)\n",
    "    ypred = clf.predict(Xtest)\n",
    "    accuracy = accuracy_score(ytest, ypred)\n",
    "    print(f'Точность модели с оптимизатором LBFGS: {accuracy}')\n",
    "\n",
    "optimizewithsgd(X_train, y_train, X_test, y_test)\n",
    "optimizewithadam(X_train, y_train, X_test, y_test)\n",
    "optimizewithlbfgs(X_train, y_train, X_test, y_test)"
   ]
  }
 ],
 "metadata": {
  "kernelspec": {
   "display_name": "venv",
   "language": "python",
   "name": "python3"
  },
  "language_info": {
   "codemirror_mode": {
    "name": "ipython",
    "version": 3
   },
   "file_extension": ".py",
   "mimetype": "text/x-python",
   "name": "python",
   "nbconvert_exporter": "python",
   "pygments_lexer": "ipython3",
   "version": "3.12.0"
  },
  "orig_nbformat": 4,
  "vscode": {
   "interpreter": {
    "hash": "b625ad7f8370019a862160d48727f8416a4157608d86618b932a5f14dafd9c06"
   }
  }
 },
 "nbformat": 4,
 "nbformat_minor": 2
}
