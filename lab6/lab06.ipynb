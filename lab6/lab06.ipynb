{
 "cells": [
  {
   "cell_type": "code",
   "execution_count": 1,
   "metadata": {},
   "outputs": [
    {
     "name": "stderr",
     "output_type": "stream",
     "text": [
      "c:\\Users\\solda\\VsCodeProjects\\ML\\venv\\Lib\\site-packages\\keras\\src\\layers\\convolutional\\base_conv.py:107: UserWarning: Do not pass an `input_shape`/`input_dim` argument to a layer. When using Sequential models, prefer using an `Input(shape)` object as the first layer in the model instead.\n",
      "  super().__init__(activity_regularizer=activity_regularizer, **kwargs)\n"
     ]
    },
    {
     "name": "stdout",
     "output_type": "stream",
     "text": [
      "Epoch 1/10\n",
      "\u001b[1m1563/1563\u001b[0m \u001b[32m━━━━━━━━━━━━━━━━━━━━\u001b[0m\u001b[37m\u001b[0m \u001b[1m19s\u001b[0m 11ms/step - accuracy: 0.3334 - loss: 1.7900 - val_accuracy: 0.5126 - val_loss: 1.3466\n",
      "Epoch 2/10\n",
      "\u001b[1m1563/1563\u001b[0m \u001b[32m━━━━━━━━━━━━━━━━━━━━\u001b[0m\u001b[37m\u001b[0m \u001b[1m16s\u001b[0m 10ms/step - accuracy: 0.5642 - loss: 1.2118 - val_accuracy: 0.6052 - val_loss: 1.1187\n",
      "Epoch 3/10\n",
      "\u001b[1m1563/1563\u001b[0m \u001b[32m━━━━━━━━━━━━━━━━━━━━\u001b[0m\u001b[37m\u001b[0m \u001b[1m16s\u001b[0m 10ms/step - accuracy: 0.6412 - loss: 1.0200 - val_accuracy: 0.6503 - val_loss: 0.9999\n",
      "Epoch 4/10\n",
      "\u001b[1m1563/1563\u001b[0m \u001b[32m━━━━━━━━━━━━━━━━━━━━\u001b[0m\u001b[37m\u001b[0m \u001b[1m16s\u001b[0m 10ms/step - accuracy: 0.6773 - loss: 0.9175 - val_accuracy: 0.6767 - val_loss: 0.9304\n",
      "Epoch 5/10\n",
      "\u001b[1m1563/1563\u001b[0m \u001b[32m━━━━━━━━━━━━━━━━━━━━\u001b[0m\u001b[37m\u001b[0m \u001b[1m16s\u001b[0m 10ms/step - accuracy: 0.7057 - loss: 0.8386 - val_accuracy: 0.6973 - val_loss: 0.8821\n",
      "Epoch 6/10\n",
      "\u001b[1m1563/1563\u001b[0m \u001b[32m━━━━━━━━━━━━━━━━━━━━\u001b[0m\u001b[37m\u001b[0m \u001b[1m16s\u001b[0m 10ms/step - accuracy: 0.7289 - loss: 0.7655 - val_accuracy: 0.7026 - val_loss: 0.8640\n",
      "Epoch 7/10\n",
      "\u001b[1m1563/1563\u001b[0m \u001b[32m━━━━━━━━━━━━━━━━━━━━\u001b[0m\u001b[37m\u001b[0m \u001b[1m16s\u001b[0m 10ms/step - accuracy: 0.7475 - loss: 0.7245 - val_accuracy: 0.7087 - val_loss: 0.8431\n",
      "Epoch 8/10\n",
      "\u001b[1m1563/1563\u001b[0m \u001b[32m━━━━━━━━━━━━━━━━━━━━\u001b[0m\u001b[37m\u001b[0m \u001b[1m16s\u001b[0m 10ms/step - accuracy: 0.7596 - loss: 0.6775 - val_accuracy: 0.7066 - val_loss: 0.8643\n",
      "Epoch 9/10\n",
      "\u001b[1m1563/1563\u001b[0m \u001b[32m━━━━━━━━━━━━━━━━━━━━\u001b[0m\u001b[37m\u001b[0m \u001b[1m16s\u001b[0m 10ms/step - accuracy: 0.7775 - loss: 0.6381 - val_accuracy: 0.7128 - val_loss: 0.8736\n",
      "Epoch 10/10\n",
      "\u001b[1m1563/1563\u001b[0m \u001b[32m━━━━━━━━━━━━━━━━━━━━\u001b[0m\u001b[37m\u001b[0m \u001b[1m16s\u001b[0m 10ms/step - accuracy: 0.7948 - loss: 0.5845 - val_accuracy: 0.7048 - val_loss: 0.9040\n"
     ]
    },
    {
     "name": "stderr",
     "output_type": "stream",
     "text": [
      "WARNING:absl:You are saving your model as an HDF5 file via `model.save()` or `keras.saving.save_model(model)`. This file format is considered legacy. We recommend using instead the native Keras format, e.g. `model.save('my_model.keras')` or `keras.saving.save_model(model, 'my_model.keras')`. \n"
     ]
    }
   ],
   "source": [
    "import tensorflow as tf\n",
    "from tensorflow.keras.models import Sequential\n",
    "from tensorflow.keras.layers import Conv2D, MaxPooling2D, Flatten, Dense\n",
    "from tensorflow.keras.datasets import cifar10\n",
    "from keras.preprocessing.image import array_to_img\n",
    "\n",
    "# Загрузка обучающей выборки\n",
    "(x_train, y_train), (x_test, y_test) = cifar10.load_data()\n",
    "\n",
    "# Нормализация данных\n",
    "x_train, x_test = x_train / 255.0, x_test / 255.0\n",
    "\n",
    "# Создание модели\n",
    "model = Sequential([\n",
    "    Conv2D(32, (3, 3), activation='relu', input_shape=(32, 32, 3)), # определяем взвешенное ядро, создаёт тензор выходных данных\n",
    "    MaxPooling2D((2, 2)), # уменьшает выборку, выбирает максимальное значение из подвыборки\n",
    "    Conv2D(64, (3, 3), activation='relu'),\n",
    "    MaxPooling2D((2, 2)),\n",
    "    Conv2D(64, (3, 3), activation='relu'),\n",
    "    Flatten(), # конвертирует в вектор\n",
    "    Dense(64, activation='relu'), # отвечает за соединение нейронов \n",
    "    Dense(10, activation='softmax') # и финальный результат\n",
    "])\n",
    "\n",
    "# Вы можете объединить множество таких нейронов в сеть, но это не поможет \n",
    "# - многие сложные процессы в реальной жизни не являются линейными и смоделировать их такой сетью не выйдет\n",
    "\n",
    "# Функция активации - это своего рода фильтр, который:\n",
    "# фильтрует неважную информацию и оставляет только важную в определенном формате;\n",
    "# вводит необходимую нелинейность, позволяя сети учиться и моделировать сложные закономерности.\n",
    "\n",
    "\n",
    "#relu: \n",
    "# if input > 0:\n",
    "#   return input\n",
    "# else:\n",
    "#   return 0\n",
    "# Берем входное число и обрезаем его до ноля, если оно отрицательное.\n",
    "#\n",
    "\n",
    "\n",
    "# softMax принимает список произвольных чисел и преобразует их в список вероятностей пропорциональных этим числам. То есть:\n",
    "# softMax допустим, у нас есть список [1, 2, 3]: softmax([1, 2, 3]) = [0.09003, 0.24473, 0.66524]\n",
    "\n",
    "\n",
    "# Компиляция модели\n",
    "model.compile(optimizer='adam',\n",
    "              loss='sparse_categorical_crossentropy',\n",
    "              metrics=['accuracy'])\n",
    "\n",
    "# Обучение модели\n",
    "model.fit(x_train, y_train, epochs=10, validation_data=(x_test, y_test))\n",
    "\n",
    "# Сохранение модели в файл\n",
    "model.save('my_cnn_model.h5')\n"
   ]
  },
  {
   "cell_type": "code",
   "execution_count": 14,
   "metadata": {},
   "outputs": [
    {
     "data": {
      "image/jpeg": "[encoded data removed]",
      "image/png": "[encoded data removed]",
      "text/plain": [
       "<PIL.Image.Image image mode=RGB size=32x32>"
      ]
     },
     "execution_count": 14,
     "metadata": {},
     "output_type": "execute_result"
    }
   ],
   "source": [
    "array_to_img(x_train[242])"
   ]
  },
  {
   "cell_type": "code",
   "execution_count": 3,
   "metadata": {},
   "outputs": [
    {
     "name": "stderr",
     "output_type": "stream",
     "text": [
      "WARNING:absl:Compiled the loaded model, but the compiled metrics have yet to be built. `model.compile_metrics` will be empty until you train or evaluate the model.\n"
     ]
    },
    {
     "name": "stdout",
     "output_type": "stream",
     "text": [
      "313/313 - 2s - 6ms/step - accuracy: 0.7048 - loss: 0.9040\n",
      "Test loss: 0.9039539098739624\n",
      "Test accuracy: 0.704800009727478\n",
      "\u001b[1m1/1\u001b[0m \u001b[32m━━━━━━━━━━━━━━━━━━━━\u001b[0m\u001b[37m\u001b[0m \u001b[1m0s\u001b[0m 133ms/step\n"
     ]
    },
    {
     "data": {
      "image/png": "[encoded data removed]",
      "text/plain": [
       "<Figure size 640x480 with 1 Axes>"
      ]
     },
     "metadata": {},
     "output_type": "display_data"
    },
    {
     "name": "stdout",
     "output_type": "stream",
     "text": [
      "True class: Cat\n",
      "Predicted class: Dog\n"
     ]
    }
   ],
   "source": [
    "import numpy as np\n",
    "import matplotlib.pyplot as plt\n",
    "from tensorflow.keras.models import load_model\n",
    "from tensorflow.keras.preprocessing import image\n",
    "from tensorflow.keras.datasets import cifar10\n",
    "\n",
    "# Загрузка сохраненной модели\n",
    "model = load_model('my_cnn_model.h5')\n",
    "\n",
    "# Словарь для названий классов CIFAR-10\n",
    "class_names = {\n",
    "    0: 'Airplane',\n",
    "    1: 'Automobile',\n",
    "    2: 'Bird',\n",
    "    3: 'Cat',\n",
    "    4: 'Deer',\n",
    "    5: 'Dog',\n",
    "    6: 'Frog',\n",
    "    7: 'Horse',\n",
    "    8: 'Ship',\n",
    "    9: 'Truck'\n",
    "}\n",
    "\n",
    "# Оценка модели на тестовом наборе данных CIFAR-10\n",
    "(_, _), (x_test, y_test) = cifar10.load_data()\n",
    "x_test = x_test / 255.0  # Нормализация данных тестового набора\n",
    "\n",
    "# Оценка точности модели\n",
    "test_loss, test_accuracy = model.evaluate(x_test, y_test, verbose=2)\n",
    "print(f'Test loss: {test_loss}')\n",
    "print(f'Test accuracy: {test_accuracy}')\n",
    "\n",
    "# Выбор случайного изображения из тестовой выборки\n",
    "index = np.random.randint(0, x_test.shape[0])\n",
    "test_image = x_test[index]\n",
    "true_class = y_test[index][0]\n",
    "true_class_name = class_names[true_class]\n",
    "\n",
    "# Предобработка изображения\n",
    "test_image_normalized = np.expand_dims(test_image, axis=0)\n",
    "\n",
    "# Предсказание класса\n",
    "predictions = model.predict(test_image_normalized)\n",
    "predicted_class = np.argmax(predictions)\n",
    "predicted_class_name = class_names[predicted_class]\n",
    "\n",
    "# Вывод результатов\n",
    "plt.imshow(test_image)\n",
    "plt.title(f'True class: {true_class_name}, Predicted class: {predicted_class_name}')\n",
    "plt.show()\n",
    "\n",
    "print(f'True class: {true_class_name}')\n",
    "print(f'Predicted class: {predicted_class_name}')\n"
   ]
  }
 ],
 "metadata": {
  "kernelspec": {
   "display_name": "venv",
   "language": "python",
   "name": "python3"
  },
  "language_info": {
   "codemirror_mode": {
    "name": "ipython",
    "version": 3
   },
   "file_extension": ".py",
   "mimetype": "text/x-python",
   "name": "python",
   "nbconvert_exporter": "python",
   "pygments_lexer": "ipython3",
   "version": "3.12.0"
  },
  "orig_nbformat": 4,
  "vscode": {
   "interpreter": {
    "hash": "b625ad7f8370019a862160d48727f8416a4157608d86618b932a5f14dafd9c06"
   }
  }
 },
 "nbformat": 4,
 "nbformat_minor": 2
}
