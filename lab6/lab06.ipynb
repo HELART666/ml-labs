{
 "cells": [
  {
   "cell_type": "code",
   "execution_count": 3,
   "metadata": {},
   "outputs": [
    {
     "ename": "ModuleNotFoundError",
     "evalue": "No module named 'tensorflow'",
     "output_type": "error",
     "traceback": [
      "\u001b[1;31m---------------------------------------------------------------------------\u001b[0m",
      "\u001b[1;31mModuleNotFoundError\u001b[0m                       Traceback (most recent call last)",
      "Cell \u001b[1;32mIn[3], line 1\u001b[0m\n\u001b[1;32m----> 1\u001b[0m \u001b[39mimport\u001b[39;00m \u001b[39mtensorflow\u001b[39;00m \u001b[39mas\u001b[39;00m \u001b[39mtf\u001b[39;00m\n\u001b[0;32m      2\u001b[0m \u001b[39mfrom\u001b[39;00m \u001b[39mtensorflow\u001b[39;00m\u001b[39m.\u001b[39;00m\u001b[39mkeras\u001b[39;00m\u001b[39m.\u001b[39;00m\u001b[39mmodels\u001b[39;00m \u001b[39mimport\u001b[39;00m Sequential\n\u001b[0;32m      3\u001b[0m \u001b[39mfrom\u001b[39;00m \u001b[39mtensorflow\u001b[39;00m\u001b[39m.\u001b[39;00m\u001b[39mkeras\u001b[39;00m\u001b[39m.\u001b[39;00m\u001b[39mlayers\u001b[39;00m \u001b[39mimport\u001b[39;00m Conv2D, MaxPooling2D, Flatten, Dense\n",
      "\u001b[1;31mModuleNotFoundError\u001b[0m: No module named 'tensorflow'"
     ]
    }
   ],
   "source": [
    "import tensorflow as tf\n",
    "from tensorflow.keras.models import Sequential\n",
    "from tensorflow.keras.layers import Conv2D, MaxPooling2D, Flatten, Dense\n",
    "from tensorflow.keras.datasets import cifar10\n",
    "from keras.preprocessing.image import array_to_img\n",
    "\n",
    "# Загрузка обучающей выборки\n",
    "(x_train, y_train), (x_test, y_test) = cifar10.load_data()\n",
    "\n",
    "# Нормализация данных\n",
    "x_train, x_test = x_train / 255.0, x_test / 255.0\n",
    "\n",
    "# Создание модели\n",
    "model = Sequential([\n",
    "    Conv2D(32, (3, 3), activation='relu', input_shape=(32, 32, 3)), # определяем взвешенное ядро, создаёт тензор выходных данных\n",
    "    MaxPooling2D((2, 2)), # уменьшает выборку, выбирает максимальное значение из подвыборки\n",
    "    Conv2D(64, (3, 3), activation='relu'),\n",
    "    MaxPooling2D((2, 2)),\n",
    "    Conv2D(64, (3, 3), activation='relu'),\n",
    "    Flatten(), # конвертирует в вектор\n",
    "    Dense(64, activation='relu'), # отвечает за соединение нейронов \n",
    "    Dense(10, activation='softmax') # и финальный результат\n",
    "])\n",
    "\n",
    "# Вы можете объединить множество таких нейронов в сеть, но это не поможет \n",
    "# - многие сложные процессы в реальной жизни не являются линейными и смоделировать их такой сетью не выйдет\n",
    "\n",
    "# Функция активации - это своего рода фильтр, который:\n",
    "# фильтрует неважную информацию и оставляет только важную в определенном формате;\n",
    "# вводит необходимую нелинейность, позволяя сети учиться и моделировать сложные закономерности.\n",
    "\n",
    "\n",
    "#relu: \n",
    "# if input > 0:\n",
    "#   return input\n",
    "# else:\n",
    "#   return 0\n",
    "# Берем входное число и обрезаем его до ноля, если оно отрицательное.\n",
    "#\n",
    "\n",
    "\n",
    "# softMax принимает список произвольных чисел и преобразует их в список вероятностей пропорциональных этим числам. То есть:\n",
    "# softMax допустим, у нас есть список [1, 2, 3]: softmax([1, 2, 3]) = [0.09003, 0.24473, 0.66524]\n",
    "\n",
    "\n",
    "# Компиляция модели\n",
    "model.compile(optimizer='adam',\n",
    "              loss='sparse_categorical_crossentropy',\n",
    "              metrics=['accuracy'])\n",
    "\n",
    "# Обучение модели\n",
    "model.fit(x_train, y_train, epochs=10, validation_data=(x_test, y_test))\n",
    "\n",
    "# Сохранение модели в файл\n",
    "model.save('my_cnn_model.h5')\n"
   ]
  },
  {
   "cell_type": "code",
   "execution_count": 14,
   "metadata": {},
   "outputs": [
    {
     "data": {
      "image/jpeg": "[encoded data removed]",
      "image/png": "[encoded data removed]",
      "text/plain": [
       "<PIL.Image.Image image mode=RGB size=32x32>"
      ]
     },
     "execution_count": 14,
     "metadata": {},
     "output_type": "execute_result"
    }
   ],
   "source": [
    "array_to_img(x_train[242])"
   ]
  },
  {
   "cell_type": "code",
   "execution_count": 1,
   "metadata": {},
   "outputs": [
    {
     "ename": "ModuleNotFoundError",
     "evalue": "No module named 'matplotlib'",
     "output_type": "error",
     "traceback": [
      "\u001b[1;31m---------------------------------------------------------------------------\u001b[0m",
      "\u001b[1;31mModuleNotFoundError\u001b[0m                       Traceback (most recent call last)",
      "Cell \u001b[1;32mIn[1], line 2\u001b[0m\n\u001b[0;32m      1\u001b[0m \u001b[39mimport\u001b[39;00m \u001b[39mnumpy\u001b[39;00m \u001b[39mas\u001b[39;00m \u001b[39mnp\u001b[39;00m\n\u001b[1;32m----> 2\u001b[0m \u001b[39mimport\u001b[39;00m \u001b[39mmatplotlib\u001b[39;00m\u001b[39m.\u001b[39;00m\u001b[39mpyplot\u001b[39;00m \u001b[39mas\u001b[39;00m \u001b[39mplt\u001b[39;00m\n\u001b[0;32m      3\u001b[0m \u001b[39mfrom\u001b[39;00m \u001b[39mtensorflow\u001b[39;00m\u001b[39m.\u001b[39;00m\u001b[39mkeras\u001b[39;00m\u001b[39m.\u001b[39;00m\u001b[39mmodels\u001b[39;00m \u001b[39mimport\u001b[39;00m load_model\n\u001b[0;32m      4\u001b[0m \u001b[39mfrom\u001b[39;00m \u001b[39mtensorflow\u001b[39;00m\u001b[39m.\u001b[39;00m\u001b[39mkeras\u001b[39;00m\u001b[39m.\u001b[39;00m\u001b[39mpreprocessing\u001b[39;00m \u001b[39mimport\u001b[39;00m image\n",
      "\u001b[1;31mModuleNotFoundError\u001b[0m: No module named 'matplotlib'"
     ]
    }
   ],
   "source": [
    "import numpy as np\n",
    "import matplotlib.pyplot as plt\n",
    "from tensorflow.keras.models import load_model\n",
    "from tensorflow.keras.preprocessing import image\n",
    "from tensorflow.keras.datasets import cifar10\n",
    "\n",
    "# Загрузка сохраненной модели\n",
    "model = load_model('my_cnn_model.h5')\n",
    "\n",
    "# Словарь для названий классов CIFAR-10\n",
    "class_names = {\n",
    "    0: 'Airplane',\n",
    "    1: 'Automobile',\n",
    "    2: 'Bird',\n",
    "    3: 'Cat',\n",
    "    4: 'Deer',\n",
    "    5: 'Dog',\n",
    "    6: 'Frog',\n",
    "    7: 'Horse',\n",
    "    8: 'Ship',\n",
    "    9: 'Truck'\n",
    "}\n",
    "\n",
    "# Оценка модели на тестовом наборе данных CIFAR-10\n",
    "(_, _), (x_test, y_test) = cifar10.load_data()\n",
    "x_test = x_test / 255.0  # Нормализация данных тестового набора\n",
    "\n",
    "# Оценка точности модели\n",
    "test_loss, test_accuracy = model.evaluate(x_test, y_test, verbose=2)\n",
    "print(f'Test loss: {test_loss}')\n",
    "print(f'Test accuracy: {test_accuracy}')\n",
    "\n",
    "# Выбор случайного изображения из тестовой выборки\n",
    "index = np.random.randint(0, x_test.shape[0])\n",
    "test_image = x_test[index]\n",
    "true_class = y_test[index][0]\n",
    "true_class_name = class_names[true_class]\n",
    "\n",
    "# Предобработка изображения\n",
    "test_image_normalized = np.expand_dims(test_image, axis=0)\n",
    "\n",
    "# Предсказание класса\n",
    "predictions = model.predict(test_image_normalized)\n",
    "predicted_class = np.argmax(predictions)\n",
    "predicted_class_name = class_names[predicted_class]\n",
    "\n",
    "# Вывод результатов\n",
    "plt.imshow(test_image)\n",
    "plt.title(f'True class: {true_class_name}, Predicted class: {predicted_class_name}')\n",
    "plt.show()\n",
    "\n",
    "print(f'True class: {true_class_name}')\n",
    "print(f'Predicted class: {predicted_class_name}')\n"
   ]
  }
 ],
 "metadata": {
  "kernelspec": {
   "display_name": "Python 3",
   "language": "python",
   "name": "python3"
  },
  "language_info": {
   "codemirror_mode": {
    "name": "ipython",
    "version": 3
   },
   "file_extension": ".py",
   "mimetype": "text/x-python",
   "name": "python",
   "nbconvert_exporter": "python",
   "pygments_lexer": "ipython3",
   "version": "3.12.0"
  },
  "orig_nbformat": 4,
  "vscode": {
   "interpreter": {
    "hash": "3fcbd7240ee8f908d933dc7f71e8c42a1a91163b70ede8dcff5146d4087436c7"
   }
  }
 },
 "nbformat": 4,
 "nbformat_minor": 2
}
