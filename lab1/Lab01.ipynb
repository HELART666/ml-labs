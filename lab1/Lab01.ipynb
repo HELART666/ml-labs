{
 "cells": [
  {
   "cell_type": "markdown",
   "metadata": {},
   "source": [
    "# Лабораторная работа №1\n",
    "## Анализ пассажиров корабля \"Титаник\"\n",
    "\n",
    "**Заполните недостающий код (\"You code here\")**"
   ]
  },
  {
   "cell_type": "code",
   "execution_count": 80,
   "metadata": {},
   "outputs": [],
   "source": [
    "import numpy as np\n",
    "import pandas as pd\n",
    "from matplotlib import pyplot as plt\n",
    "import seaborn as sns\n",
    "# import some nice vis settings \n",
    "sns.set()\n",
    "# Graphics in SVG format are more sharp and legible\n",
    "%config InlineBackend.figure_format = 'svg'\n",
    "pd.set_option(\"display.precision\", 2)"
   ]
  },
  {
   "cell_type": "markdown",
   "metadata": {},
   "source": [
    "** Чтение данных в Pandas DataFrame**"
   ]
  },
  {
   "cell_type": "code",
   "execution_count": 5,
   "metadata": {},
   "outputs": [],
   "source": [
    "data = pd.read_csv('titanic_train.csv',\n",
    "                  index_col='PassengerId')"
   ]
  },
  {
   "cell_type": "markdown",
   "metadata": {},
   "source": [
    "**Первые 5 строк**"
   ]
  },
  {
   "cell_type": "code",
   "execution_count": 5,
   "metadata": {},
   "outputs": [
    {
     "data": {
      "text/html": [
       "<div>\n",
       "<style scoped>\n",
       "    .dataframe tbody tr th:only-of-type {\n",
       "        vertical-align: middle;\n",
       "    }\n",
       "\n",
       "    .dataframe tbody tr th {\n",
       "        vertical-align: top;\n",
       "    }\n",
       "\n",
       "    .dataframe thead th {\n",
       "        text-align: right;\n",
       "    }\n",
       "</style>\n",
       "<table border=\"1\" class=\"dataframe\">\n",
       "  <thead>\n",
       "    <tr style=\"text-align: right;\">\n",
       "      <th></th>\n",
       "      <th>Survived</th>\n",
       "      <th>Pclass</th>\n",
       "      <th>Name</th>\n",
       "      <th>Sex</th>\n",
       "      <th>Age</th>\n",
       "      <th>SibSp</th>\n",
       "      <th>Parch</th>\n",
       "      <th>Ticket</th>\n",
       "      <th>Fare</th>\n",
       "      <th>Cabin</th>\n",
       "      <th>Embarked</th>\n",
       "    </tr>\n",
       "    <tr>\n",
       "      <th>PassengerId</th>\n",
       "      <th></th>\n",
       "      <th></th>\n",
       "      <th></th>\n",
       "      <th></th>\n",
       "      <th></th>\n",
       "      <th></th>\n",
       "      <th></th>\n",
       "      <th></th>\n",
       "      <th></th>\n",
       "      <th></th>\n",
       "      <th></th>\n",
       "    </tr>\n",
       "  </thead>\n",
       "  <tbody>\n",
       "    <tr>\n",
       "      <th>1</th>\n",
       "      <td>0</td>\n",
       "      <td>3</td>\n",
       "      <td>Braund, Mr. Owen Harris</td>\n",
       "      <td>male</td>\n",
       "      <td>22.0</td>\n",
       "      <td>1</td>\n",
       "      <td>0</td>\n",
       "      <td>A/5 21171</td>\n",
       "      <td>7.25</td>\n",
       "      <td>NaN</td>\n",
       "      <td>S</td>\n",
       "    </tr>\n",
       "    <tr>\n",
       "      <th>2</th>\n",
       "      <td>1</td>\n",
       "      <td>1</td>\n",
       "      <td>Cumings, Mrs. John Bradley (Florence Briggs Th...</td>\n",
       "      <td>female</td>\n",
       "      <td>38.0</td>\n",
       "      <td>1</td>\n",
       "      <td>0</td>\n",
       "      <td>PC 17599</td>\n",
       "      <td>71.28</td>\n",
       "      <td>C85</td>\n",
       "      <td>C</td>\n",
       "    </tr>\n",
       "    <tr>\n",
       "      <th>3</th>\n",
       "      <td>1</td>\n",
       "      <td>3</td>\n",
       "      <td>Heikkinen, Miss. Laina</td>\n",
       "      <td>female</td>\n",
       "      <td>26.0</td>\n",
       "      <td>0</td>\n",
       "      <td>0</td>\n",
       "      <td>STON/O2. 3101282</td>\n",
       "      <td>7.92</td>\n",
       "      <td>NaN</td>\n",
       "      <td>S</td>\n",
       "    </tr>\n",
       "    <tr>\n",
       "      <th>4</th>\n",
       "      <td>1</td>\n",
       "      <td>1</td>\n",
       "      <td>Futrelle, Mrs. Jacques Heath (Lily May Peel)</td>\n",
       "      <td>female</td>\n",
       "      <td>35.0</td>\n",
       "      <td>1</td>\n",
       "      <td>0</td>\n",
       "      <td>113803</td>\n",
       "      <td>53.10</td>\n",
       "      <td>C123</td>\n",
       "      <td>S</td>\n",
       "    </tr>\n",
       "    <tr>\n",
       "      <th>5</th>\n",
       "      <td>0</td>\n",
       "      <td>3</td>\n",
       "      <td>Allen, Mr. William Henry</td>\n",
       "      <td>male</td>\n",
       "      <td>35.0</td>\n",
       "      <td>0</td>\n",
       "      <td>0</td>\n",
       "      <td>373450</td>\n",
       "      <td>8.05</td>\n",
       "      <td>NaN</td>\n",
       "      <td>S</td>\n",
       "    </tr>\n",
       "  </tbody>\n",
       "</table>\n",
       "</div>"
      ],
      "text/plain": [
       "             Survived  Pclass  \\\n",
       "PassengerId                     \n",
       "1                   0       3   \n",
       "2                   1       1   \n",
       "3                   1       3   \n",
       "4                   1       1   \n",
       "5                   0       3   \n",
       "\n",
       "                                                          Name     Sex   Age  \\\n",
       "PassengerId                                                                    \n",
       "1                                      Braund, Mr. Owen Harris    male  22.0   \n",
       "2            Cumings, Mrs. John Bradley (Florence Briggs Th...  female  38.0   \n",
       "3                                       Heikkinen, Miss. Laina  female  26.0   \n",
       "4                 Futrelle, Mrs. Jacques Heath (Lily May Peel)  female  35.0   \n",
       "5                                     Allen, Mr. William Henry    male  35.0   \n",
       "\n",
       "             SibSp  Parch            Ticket   Fare Cabin Embarked  \n",
       "PassengerId                                                        \n",
       "1                1      0         A/5 21171   7.25   NaN        S  \n",
       "2                1      0          PC 17599  71.28   C85        C  \n",
       "3                0      0  STON/O2. 3101282   7.92   NaN        S  \n",
       "4                1      0            113803  53.10  C123        S  \n",
       "5                0      0            373450   8.05   NaN        S  "
      ]
     },
     "execution_count": 5,
     "metadata": {},
     "output_type": "execute_result"
    }
   ],
   "source": [
    "data.head(5)"
   ]
  },
  {
   "cell_type": "code",
   "execution_count": 6,
   "metadata": {},
   "outputs": [
    {
     "data": {
      "text/html": [
       "<div>\n",
       "<style scoped>\n",
       "    .dataframe tbody tr th:only-of-type {\n",
       "        vertical-align: middle;\n",
       "    }\n",
       "\n",
       "    .dataframe tbody tr th {\n",
       "        vertical-align: top;\n",
       "    }\n",
       "\n",
       "    .dataframe thead th {\n",
       "        text-align: right;\n",
       "    }\n",
       "</style>\n",
       "<table border=\"1\" class=\"dataframe\">\n",
       "  <thead>\n",
       "    <tr style=\"text-align: right;\">\n",
       "      <th></th>\n",
       "      <th>Survived</th>\n",
       "      <th>Pclass</th>\n",
       "      <th>Age</th>\n",
       "      <th>SibSp</th>\n",
       "      <th>Parch</th>\n",
       "      <th>Fare</th>\n",
       "    </tr>\n",
       "  </thead>\n",
       "  <tbody>\n",
       "    <tr>\n",
       "      <th>count</th>\n",
       "      <td>891.00</td>\n",
       "      <td>891.00</td>\n",
       "      <td>714.00</td>\n",
       "      <td>891.00</td>\n",
       "      <td>891.00</td>\n",
       "      <td>891.00</td>\n",
       "    </tr>\n",
       "    <tr>\n",
       "      <th>mean</th>\n",
       "      <td>0.38</td>\n",
       "      <td>2.31</td>\n",
       "      <td>29.70</td>\n",
       "      <td>0.52</td>\n",
       "      <td>0.38</td>\n",
       "      <td>32.20</td>\n",
       "    </tr>\n",
       "    <tr>\n",
       "      <th>std</th>\n",
       "      <td>0.49</td>\n",
       "      <td>0.84</td>\n",
       "      <td>14.53</td>\n",
       "      <td>1.10</td>\n",
       "      <td>0.81</td>\n",
       "      <td>49.69</td>\n",
       "    </tr>\n",
       "    <tr>\n",
       "      <th>min</th>\n",
       "      <td>0.00</td>\n",
       "      <td>1.00</td>\n",
       "      <td>0.42</td>\n",
       "      <td>0.00</td>\n",
       "      <td>0.00</td>\n",
       "      <td>0.00</td>\n",
       "    </tr>\n",
       "    <tr>\n",
       "      <th>25%</th>\n",
       "      <td>0.00</td>\n",
       "      <td>2.00</td>\n",
       "      <td>20.12</td>\n",
       "      <td>0.00</td>\n",
       "      <td>0.00</td>\n",
       "      <td>7.91</td>\n",
       "    </tr>\n",
       "    <tr>\n",
       "      <th>50%</th>\n",
       "      <td>0.00</td>\n",
       "      <td>3.00</td>\n",
       "      <td>28.00</td>\n",
       "      <td>0.00</td>\n",
       "      <td>0.00</td>\n",
       "      <td>14.45</td>\n",
       "    </tr>\n",
       "    <tr>\n",
       "      <th>75%</th>\n",
       "      <td>1.00</td>\n",
       "      <td>3.00</td>\n",
       "      <td>38.00</td>\n",
       "      <td>1.00</td>\n",
       "      <td>0.00</td>\n",
       "      <td>31.00</td>\n",
       "    </tr>\n",
       "    <tr>\n",
       "      <th>max</th>\n",
       "      <td>1.00</td>\n",
       "      <td>3.00</td>\n",
       "      <td>80.00</td>\n",
       "      <td>8.00</td>\n",
       "      <td>6.00</td>\n",
       "      <td>512.33</td>\n",
       "    </tr>\n",
       "  </tbody>\n",
       "</table>\n",
       "</div>"
      ],
      "text/plain": [
       "       Survived  Pclass     Age   SibSp   Parch    Fare\n",
       "count    891.00  891.00  714.00  891.00  891.00  891.00\n",
       "mean       0.38    2.31   29.70    0.52    0.38   32.20\n",
       "std        0.49    0.84   14.53    1.10    0.81   49.69\n",
       "min        0.00    1.00    0.42    0.00    0.00    0.00\n",
       "25%        0.00    2.00   20.12    0.00    0.00    7.91\n",
       "50%        0.00    3.00   28.00    0.00    0.00   14.45\n",
       "75%        1.00    3.00   38.00    1.00    0.00   31.00\n",
       "max        1.00    3.00   80.00    8.00    6.00  512.33"
      ]
     },
     "execution_count": 6,
     "metadata": {},
     "output_type": "execute_result"
    }
   ],
   "source": [
    "data.describe()"
   ]
  },
  {
   "cell_type": "markdown",
   "metadata": {},
   "source": [
    "**Давайте выберем тех пассажиров, которые отправились в Cherbourg (Embarked = C) и заплатили > 200 фунтов за билет (fare > 200).**\n",
    "\n",
    "Убедитесь, что вы понимаете, как на самом деле работает эта конструкция."
   ]
  },
  {
   "cell_type": "code",
   "execution_count": 7,
   "metadata": {},
   "outputs": [
    {
     "data": {
      "text/html": [
       "<div>\n",
       "<style scoped>\n",
       "    .dataframe tbody tr th:only-of-type {\n",
       "        vertical-align: middle;\n",
       "    }\n",
       "\n",
       "    .dataframe tbody tr th {\n",
       "        vertical-align: top;\n",
       "    }\n",
       "\n",
       "    .dataframe thead th {\n",
       "        text-align: right;\n",
       "    }\n",
       "</style>\n",
       "<table border=\"1\" class=\"dataframe\">\n",
       "  <thead>\n",
       "    <tr style=\"text-align: right;\">\n",
       "      <th></th>\n",
       "      <th>Survived</th>\n",
       "      <th>Pclass</th>\n",
       "      <th>Name</th>\n",
       "      <th>Sex</th>\n",
       "      <th>Age</th>\n",
       "      <th>SibSp</th>\n",
       "      <th>Parch</th>\n",
       "      <th>Ticket</th>\n",
       "      <th>Fare</th>\n",
       "      <th>Cabin</th>\n",
       "      <th>Embarked</th>\n",
       "    </tr>\n",
       "    <tr>\n",
       "      <th>PassengerId</th>\n",
       "      <th></th>\n",
       "      <th></th>\n",
       "      <th></th>\n",
       "      <th></th>\n",
       "      <th></th>\n",
       "      <th></th>\n",
       "      <th></th>\n",
       "      <th></th>\n",
       "      <th></th>\n",
       "      <th></th>\n",
       "      <th></th>\n",
       "    </tr>\n",
       "  </thead>\n",
       "  <tbody>\n",
       "    <tr>\n",
       "      <th>119</th>\n",
       "      <td>0</td>\n",
       "      <td>1</td>\n",
       "      <td>Baxter, Mr. Quigg Edmond</td>\n",
       "      <td>male</td>\n",
       "      <td>24.0</td>\n",
       "      <td>0</td>\n",
       "      <td>1</td>\n",
       "      <td>PC 17558</td>\n",
       "      <td>247.52</td>\n",
       "      <td>B58 B60</td>\n",
       "      <td>C</td>\n",
       "    </tr>\n",
       "    <tr>\n",
       "      <th>259</th>\n",
       "      <td>1</td>\n",
       "      <td>1</td>\n",
       "      <td>Ward, Miss. Anna</td>\n",
       "      <td>female</td>\n",
       "      <td>35.0</td>\n",
       "      <td>0</td>\n",
       "      <td>0</td>\n",
       "      <td>PC 17755</td>\n",
       "      <td>512.33</td>\n",
       "      <td>NaN</td>\n",
       "      <td>C</td>\n",
       "    </tr>\n",
       "    <tr>\n",
       "      <th>300</th>\n",
       "      <td>1</td>\n",
       "      <td>1</td>\n",
       "      <td>Baxter, Mrs. James (Helene DeLaudeniere Chaput)</td>\n",
       "      <td>female</td>\n",
       "      <td>50.0</td>\n",
       "      <td>0</td>\n",
       "      <td>1</td>\n",
       "      <td>PC 17558</td>\n",
       "      <td>247.52</td>\n",
       "      <td>B58 B60</td>\n",
       "      <td>C</td>\n",
       "    </tr>\n",
       "    <tr>\n",
       "      <th>312</th>\n",
       "      <td>1</td>\n",
       "      <td>1</td>\n",
       "      <td>Ryerson, Miss. Emily Borie</td>\n",
       "      <td>female</td>\n",
       "      <td>18.0</td>\n",
       "      <td>2</td>\n",
       "      <td>2</td>\n",
       "      <td>PC 17608</td>\n",
       "      <td>262.38</td>\n",
       "      <td>B57 B59 B63 B66</td>\n",
       "      <td>C</td>\n",
       "    </tr>\n",
       "    <tr>\n",
       "      <th>378</th>\n",
       "      <td>0</td>\n",
       "      <td>1</td>\n",
       "      <td>Widener, Mr. Harry Elkins</td>\n",
       "      <td>male</td>\n",
       "      <td>27.0</td>\n",
       "      <td>0</td>\n",
       "      <td>2</td>\n",
       "      <td>113503</td>\n",
       "      <td>211.50</td>\n",
       "      <td>C82</td>\n",
       "      <td>C</td>\n",
       "    </tr>\n",
       "  </tbody>\n",
       "</table>\n",
       "</div>"
      ],
      "text/plain": [
       "             Survived  Pclass  \\\n",
       "PassengerId                     \n",
       "119                 0       1   \n",
       "259                 1       1   \n",
       "300                 1       1   \n",
       "312                 1       1   \n",
       "378                 0       1   \n",
       "\n",
       "                                                        Name     Sex   Age  \\\n",
       "PassengerId                                                                  \n",
       "119                                 Baxter, Mr. Quigg Edmond    male  24.0   \n",
       "259                                         Ward, Miss. Anna  female  35.0   \n",
       "300          Baxter, Mrs. James (Helene DeLaudeniere Chaput)  female  50.0   \n",
       "312                               Ryerson, Miss. Emily Borie  female  18.0   \n",
       "378                                Widener, Mr. Harry Elkins    male  27.0   \n",
       "\n",
       "             SibSp  Parch    Ticket    Fare            Cabin Embarked  \n",
       "PassengerId                                                            \n",
       "119              0      1  PC 17558  247.52          B58 B60        C  \n",
       "259              0      0  PC 17755  512.33              NaN        C  \n",
       "300              0      1  PC 17558  247.52          B58 B60        C  \n",
       "312              2      2  PC 17608  262.38  B57 B59 B63 B66        C  \n",
       "378              0      2    113503  211.50              C82        C  "
      ]
     },
     "execution_count": 7,
     "metadata": {},
     "output_type": "execute_result"
    }
   ],
   "source": [
    "data[(data['Embarked'] == 'C') & (data.Fare > 200)].head()"
   ]
  },
  {
   "cell_type": "markdown",
   "metadata": {},
   "source": [
    "** Мы можем отсортировать этих людей по тарифу (Fare) в порядке убывания. **"
   ]
  },
  {
   "cell_type": "code",
   "execution_count": 10,
   "metadata": {},
   "outputs": [
    {
     "data": {
      "text/html": [
       "<div>\n",
       "<style scoped>\n",
       "    .dataframe tbody tr th:only-of-type {\n",
       "        vertical-align: middle;\n",
       "    }\n",
       "\n",
       "    .dataframe tbody tr th {\n",
       "        vertical-align: top;\n",
       "    }\n",
       "\n",
       "    .dataframe thead th {\n",
       "        text-align: right;\n",
       "    }\n",
       "</style>\n",
       "<table border=\"1\" class=\"dataframe\">\n",
       "  <thead>\n",
       "    <tr style=\"text-align: right;\">\n",
       "      <th></th>\n",
       "      <th>Survived</th>\n",
       "      <th>Pclass</th>\n",
       "      <th>Name</th>\n",
       "      <th>Sex</th>\n",
       "      <th>Age</th>\n",
       "      <th>SibSp</th>\n",
       "      <th>Parch</th>\n",
       "      <th>Ticket</th>\n",
       "      <th>Fare</th>\n",
       "      <th>Cabin</th>\n",
       "      <th>Embarked</th>\n",
       "    </tr>\n",
       "    <tr>\n",
       "      <th>PassengerId</th>\n",
       "      <th></th>\n",
       "      <th></th>\n",
       "      <th></th>\n",
       "      <th></th>\n",
       "      <th></th>\n",
       "      <th></th>\n",
       "      <th></th>\n",
       "      <th></th>\n",
       "      <th></th>\n",
       "      <th></th>\n",
       "      <th></th>\n",
       "    </tr>\n",
       "  </thead>\n",
       "  <tbody>\n",
       "    <tr>\n",
       "      <th>259</th>\n",
       "      <td>1</td>\n",
       "      <td>1</td>\n",
       "      <td>Ward, Miss. Anna</td>\n",
       "      <td>female</td>\n",
       "      <td>35.0</td>\n",
       "      <td>0</td>\n",
       "      <td>0</td>\n",
       "      <td>PC 17755</td>\n",
       "      <td>512.33</td>\n",
       "      <td>NaN</td>\n",
       "      <td>C</td>\n",
       "    </tr>\n",
       "    <tr>\n",
       "      <th>680</th>\n",
       "      <td>1</td>\n",
       "      <td>1</td>\n",
       "      <td>Cardeza, Mr. Thomas Drake Martinez</td>\n",
       "      <td>male</td>\n",
       "      <td>36.0</td>\n",
       "      <td>0</td>\n",
       "      <td>1</td>\n",
       "      <td>PC 17755</td>\n",
       "      <td>512.33</td>\n",
       "      <td>B51 B53 B55</td>\n",
       "      <td>C</td>\n",
       "    </tr>\n",
       "    <tr>\n",
       "      <th>738</th>\n",
       "      <td>1</td>\n",
       "      <td>1</td>\n",
       "      <td>Lesurer, Mr. Gustave J</td>\n",
       "      <td>male</td>\n",
       "      <td>35.0</td>\n",
       "      <td>0</td>\n",
       "      <td>0</td>\n",
       "      <td>PC 17755</td>\n",
       "      <td>512.33</td>\n",
       "      <td>B101</td>\n",
       "      <td>C</td>\n",
       "    </tr>\n",
       "    <tr>\n",
       "      <th>312</th>\n",
       "      <td>1</td>\n",
       "      <td>1</td>\n",
       "      <td>Ryerson, Miss. Emily Borie</td>\n",
       "      <td>female</td>\n",
       "      <td>18.0</td>\n",
       "      <td>2</td>\n",
       "      <td>2</td>\n",
       "      <td>PC 17608</td>\n",
       "      <td>262.38</td>\n",
       "      <td>B57 B59 B63 B66</td>\n",
       "      <td>C</td>\n",
       "    </tr>\n",
       "    <tr>\n",
       "      <th>743</th>\n",
       "      <td>1</td>\n",
       "      <td>1</td>\n",
       "      <td>Ryerson, Miss. Susan Parker \"Suzette\"</td>\n",
       "      <td>female</td>\n",
       "      <td>21.0</td>\n",
       "      <td>2</td>\n",
       "      <td>2</td>\n",
       "      <td>PC 17608</td>\n",
       "      <td>262.38</td>\n",
       "      <td>B57 B59 B63 B66</td>\n",
       "      <td>C</td>\n",
       "    </tr>\n",
       "  </tbody>\n",
       "</table>\n",
       "</div>"
      ],
      "text/plain": [
       "             Survived  Pclass                                   Name     Sex  \\\n",
       "PassengerId                                                                    \n",
       "259                 1       1                       Ward, Miss. Anna  female   \n",
       "680                 1       1     Cardeza, Mr. Thomas Drake Martinez    male   \n",
       "738                 1       1                 Lesurer, Mr. Gustave J    male   \n",
       "312                 1       1             Ryerson, Miss. Emily Borie  female   \n",
       "743                 1       1  Ryerson, Miss. Susan Parker \"Suzette\"  female   \n",
       "\n",
       "              Age  SibSp  Parch    Ticket    Fare            Cabin Embarked  \n",
       "PassengerId                                                                  \n",
       "259          35.0      0      0  PC 17755  512.33              NaN        C  \n",
       "680          36.0      0      1  PC 17755  512.33      B51 B53 B55        C  \n",
       "738          35.0      0      0  PC 17755  512.33             B101        C  \n",
       "312          18.0      2      2  PC 17608  262.38  B57 B59 B63 B66        C  \n",
       "743          21.0      2      2  PC 17608  262.38  B57 B59 B63 B66        C  "
      ]
     },
     "execution_count": 10,
     "metadata": {},
     "output_type": "execute_result"
    }
   ],
   "source": [
    "data[(data['Embarked'] == 'C') & \n",
    "     (data['Fare'] > 200)].sort_values(by='Fare',\n",
    "                               ascending=False).head()"
   ]
  },
  {
   "cell_type": "markdown",
   "metadata": {},
   "source": [
    "**Давайте добавим новый признак.**"
   ]
  },
  {
   "cell_type": "code",
   "execution_count": 12,
   "metadata": {},
   "outputs": [],
   "source": [
    "def age_category(age):\n",
    "    '''\n",
    "    < 30 -> 1\n",
    "    >= 30, <55 -> 2\n",
    "    >= 55 -> 3\n",
    "    '''\n",
    "    if age < 30:\n",
    "        return 1\n",
    "    elif age < 55:\n",
    "        return 2\n",
    "    elif age >= 55:\n",
    "        return 3"
   ]
  },
  {
   "cell_type": "code",
   "execution_count": 13,
   "metadata": {},
   "outputs": [],
   "source": [
    "age_categories = [age_category(age) for age in data.Age]\n",
    "data['Age_category'] = age_categories"
   ]
  },
  {
   "cell_type": "markdown",
   "metadata": {},
   "source": [
    "**Другой способ сделать это с `apply`.**"
   ]
  },
  {
   "cell_type": "code",
   "execution_count": 14,
   "metadata": {},
   "outputs": [],
   "source": [
    "data['Age_category'] = data['Age'].apply(age_category)"
   ]
  },
  {
   "cell_type": "markdown",
   "metadata": {},
   "source": [
    "**1. Сколько мужчин / женщин было на борту?**\n",
    "- 412 мужчин и 479 женщин\n",
    "- 314 мужчин и 577 женщин\n",
    "- 479 мужчин и 412 женщин\n",
    "- 577 мужчин и 314 женщин"
   ]
  },
  {
   "cell_type": "code",
   "execution_count": 27,
   "metadata": {},
   "outputs": [
    {
     "name": "stdout",
     "output_type": "stream",
     "text": [
      "Мужчин на борту:  577\n",
      "Женщин на борту:  314\n"
     ]
    }
   ],
   "source": [
    "male_count = np.sum(data['Sex'] == 'male')\n",
    "female_count = np.sum(data['Sex'] == 'female')\n",
    "\n",
    "print(\"Мужчин на борту: \", male_count)\n",
    "print(\"Женщин на борту: \", female_count)"
   ]
  },
  {
   "cell_type": "markdown",
   "metadata": {},
   "source": [
    "**2. Определите распределение функции `Pclass`. Теперь Для мужчин и женщин отдельно. Сколько людей из второго класса было на борту?**\n",
    "- 104\n",
    "- 108\n",
    "- 112\n",
    "- 125"
   ]
  },
  {
   "cell_type": "code",
   "execution_count": 12,
   "metadata": {},
   "outputs": [
    {
     "name": "stdout",
     "output_type": "stream",
     "text": [
      "Людей второго класса на борту:  Pclass\n",
      "3    491\n",
      "1    216\n",
      "2    184\n",
      "Name: count, dtype: int64\n",
      "\n",
      "Распределение функции Pclass для мужчин:\n",
      "Pclass\n",
      "3    347\n",
      "1    122\n",
      "2    108\n",
      "Name: count, dtype: int64\n",
      "\n",
      "Распределение функции Pclass для женщин:\n",
      "Pclass\n",
      "3    144\n",
      "1     94\n",
      "2     76\n",
      "Name: count, dtype: int64\n"
     ]
    }
   ],
   "source": [
    "second_class_all = data['Pclass'].value_counts()\n",
    "print(\"Людей второго класса на борту: \", second_class_all)\n",
    "\n",
    "male = data[data['Sex'] == 'male']['Pclass'].value_counts()\n",
    "female = data[data['Sex'] == 'female']['Pclass'].value_counts()\n",
    "\n",
    "print(\"\\nРаспределение функции Pclass для мужчин:\")\n",
    "print(male)\n",
    "print(\"\\nРаспределение функции Pclass для женщин:\")\n",
    "print(female)"
   ]
  },
  {
   "cell_type": "markdown",
   "metadata": {},
   "source": [
    "**3. Каковы медиана и стандартное отклонение`Fare`?. Округлите до 2-х знаков после запятой.**\n",
    "- медиана 14,45, стандартное отклонение 49,69\n",
    "- медиана 15,1, стандартное отклонение 12,15\n",
    "- медиана 13,15, стандартное отклонение 35,3\n",
    "- Медиана 17,43, стандартное отклонение - 39,1."
   ]
  },
  {
   "cell_type": "code",
   "execution_count": 14,
   "metadata": {},
   "outputs": [
    {
     "name": "stdout",
     "output_type": "stream",
     "text": [
      "50%    14.45\n",
      "std    49.69\n",
      "Name: Fare, dtype: float64\n"
     ]
    }
   ],
   "source": [
    "stats = data['Fare'].describe()[['50%', 'std']]\n",
    "print(stats)"
   ]
  },
  {
   "cell_type": "markdown",
   "metadata": {},
   "source": [
    "**4. Правда ли, что средний возраст выживших людей выше, чем у пассажиров, которые в конечном итоге умерли?**\n",
    "- Да\n",
    "- Нет\n"
   ]
  },
  {
   "cell_type": "code",
   "execution_count": 50,
   "metadata": {},
   "outputs": [
    {
     "name": "stdout",
     "output_type": "stream",
     "text": [
      "Средний возраст выживших:  28.343689655172415\n",
      "Средний возраст погибших:  30.62617924528302\n",
      "Средний возраст выживших людей выше, чем у пассажиров, которые в конечном итоге умерли:  False\n"
     ]
    }
   ],
   "source": [
    "surv_age_check = data[data['Survived'] == 1]['Age'].mean()\n",
    "not_surv_age_check = data[data['Survived'] == 0]['Age'].mean()\n",
    "\n",
    "print('Средний возраст выживших: ', surv_age_check)\n",
    "print('Средний возраст погибших: ', not_surv_age_check)\n",
    "\n",
    "print('Средний возраст выживших людей выше, чем у пассажиров, которые в конечном итоге умерли: ', surv_age_check > not_surv_age_check)"
   ]
  },
  {
   "cell_type": "markdown",
   "metadata": {},
   "source": [
    "**5. Это правда, что пассажиры моложе 30 лет. выжили чаще, чем те, кому больше 60 лет. Каковы доли выживших людей среди молодых и пожилых людей?**\n",
    "- 22,7% среди молодежи и 40,6% среди пожилых\n",
    "- 40,6% среди молодежи и 22,7% среди пожилых\n",
    "- 35,3% среди молодежи и 27,4% среди пожилых\n",
    "- 27,4% среди молодежи и 35,3% среди пожилых"
   ]
  },
  {
   "cell_type": "code",
   "execution_count": 67,
   "metadata": {},
   "outputs": [
    {
     "name": "stdout",
     "output_type": "stream",
     "text": [
      "Это правда, что пассажиры моложе 30 лет. выжили чаще, чем те, кому больше 60 лет?  True\n",
      "Доля молодёжи 40.625\n",
      "Доля пожилых 22.727272727272727\n"
     ]
    }
   ],
   "source": [
    "young_stat = data[(data['Age'] < 30)]['Survived'].mean() * 100\n",
    "old_stat = data[(data['Age'] > 60)]['Survived'].mean() * 100\n",
    "print(\"Это правда, что пассажиры моложе 30 лет. выжили чаще, чем те, кому больше 60 лет? \", young_stat > old_stat)\n",
    "print(\"Доля молодёжи\", young_stat)\n",
    "print(\"Доля пожилых\", old_stat)"
   ]
  },
  {
   "cell_type": "markdown",
   "metadata": {},
   "source": [
    "**6. Правда ли, что женщины выживали чаще мужчин? Каковы доли выживших людей среди мужчин и женщин?**\n",
    "- 30,2% среди мужчин и 46,2% среди женщин\n",
    "- 35,7% среди мужчин и 74,2% среди женщин\n",
    "- 21,1% среди мужчин и 46,2% среди женщин\n",
    "- 18,9% среди мужчин и 74,2% среди женщин"
   ]
  },
  {
   "cell_type": "code",
   "execution_count": 68,
   "metadata": {},
   "outputs": [
    {
     "name": "stdout",
     "output_type": "stream",
     "text": [
      "Правда ли, что женщины выживали чаще мужчин?  True\n",
      "Доля мужчин 18.890814558058924\n",
      "Доля женщин 74.20382165605095\n"
     ]
    }
   ],
   "source": [
    "male_stat = data[(data['Sex'] == 'male')]['Survived'].mean() * 100\n",
    "female_stat = data[(data['Sex'] == 'female')]['Survived'].mean() * 100\n",
    "print(\"Правда ли, что женщины выживали чаще мужчин? \", female_stat > male_stat)\n",
    "print(\"Доля мужчин\", male_stat)\n",
    "print(\"Доля женщин\", female_stat)"
   ]
  },
  {
   "cell_type": "markdown",
   "metadata": {},
   "source": [
    "**7. Какое имя наиболее популярно среди пассажиров мужского пола?**\n",
    "- Charles\n",
    "- Thomas\n",
    "- William\n",
    "- John"
   ]
  },
  {
   "cell_type": "code",
   "execution_count": 71,
   "metadata": {},
   "outputs": [
    {
     "name": "stdout",
     "output_type": "stream",
     "text": [
      "Наиболее популярное имя среди пассажиров мужского пола: William\n"
     ]
    }
   ],
   "source": [
    "male_passengers = data[data['Sex'] == 'male']\n",
    "\n",
    "male_passengers_names = male_passengers['Name'].apply(lambda x: x.split(',')[1].split()[1])\n",
    "\n",
    "name_counts = male_passengers_names.value_counts()\n",
    "male_passengers_names = name_counts.idxmax()\n",
    "\n",
    "print(\"Наиболее популярное имя среди пассажиров мужского пола:\", male_passengers_names)"
   ]
  },
  {
   "cell_type": "markdown",
   "metadata": {},
   "source": [
    "**8. Как средний возраст мужчин / женщин зависит от `Pclass`? Выберите все правильные утверждения:**\n",
    "- В среднем мужчины 1 класса старше 40 лет\n",
    "- В среднем женщины 1 класса старше 40 лет\n",
    "- Мужчины всех классов в среднем старше, чем женщины того же класса\n",
    "- В среднем, пассажиры первого класса старше, чем пассажиры 2-го класса, которые старше, чем пассажиры 3-го класса."
   ]
  },
  {
   "cell_type": "code",
   "execution_count": 93,
   "metadata": {},
   "outputs": [
    {
     "data": {
      "image/svg+xml": "<?xml version=\"1.0\" encoding=\"utf-8\" standalone=\"no\"?>\n<!DOCTYPE svg PUBLIC \"-//W3C//DTD SVG 1.1//EN\"\n  \"http://www.w3.org/Graphics/SVG/1.1/DTD/svg11.dtd\">\n<svg xmlns:xlink=\"http://www.w3.org/1999/xlink\" width=\"609.254687pt\" height=\"396.309844pt\" viewBox=\"0 0 609.254687 396.309844\" xmlns=\"http://www.w3.org/2000/svg\" version=\"1.1\">\n <metadata>\n  <rdf:RDF xmlns:dc=\"http://purl.org/dc/elements/1.1/\" xmlns:cc=\"http://creativecommons.org/ns#\" xmlns:rdf=\"http://www.w3.org/1999/02/22-rdf-syntax-ns#\">\n   <cc:Work>\n    <dc:type rdf:resource=\"http://purl.org/dc/dcmitype/StillImage\"/>\n    <dc:date>2024-02-27T13:04:27.610627</dc:date>\n    <dc:format>image/svg+xml</dc:format>\n    <dc:creator>\n     <cc:Agent>\n      <dc:title>Matplotlib v3.8.3, https://matplotlib.org/</dc:title>\n     </cc:Agent>\n    </dc:creator>\n   </cc:Work>\n  </rdf:RDF>\n </metadata>\n <defs>\n  <style type=\"text/css\">*{stroke-linejoin: round; stroke-linecap: butt}</style>\n </defs>\n <g id=\"figure_1\">\n  <g id=\"patch_1\">\n   <path d=\"M 0 396.309844 \nL 609.254687 396.309844 \nL 609.254687 0 \nL 0 0 \nz\n\" style=\"fill: #ffffff\"/>\n  </g>\n  <g id=\"axes_1\">\n   <g id=\"patch_2\">\n    <path d=\"M 44.054688 354.575625 \nL 602.054688 354.575625 \nL 602.054688 21.935625 \nL 44.054688 21.935625 \nz\n\" style=\"fill: #eaeaf2\"/>\n   </g>\n   <g id=\"matplotlib.axis_1\">\n    <g id=\"xtick_1\">\n     <g id=\"text_1\">\n      <!-- 1 -->\n      <g style=\"fill: #262626\" transform=\"translate(133.996172 371.949219) scale(0.11 -0.11)\">\n       <defs>\n        <path id=\"ArialMT-31\" d=\"M 2384 0 \nL 1822 0 \nL 1822 3584 \nQ 1619 3391 1289 3197 \nQ 959 3003 697 2906 \nL 697 3450 \nQ 1169 3672 1522 3987 \nQ 1875 4303 2022 4600 \nL 2384 4600 \nL 2384 0 \nz\n\" transform=\"scale(0.015625)\"/>\n       </defs>\n       <use xlink:href=\"#ArialMT-31\"/>\n      </g>\n     </g>\n    </g>\n    <g id=\"xtick_2\">\n     <g id=\"text_2\">\n      <!-- 2 -->\n      <g style=\"fill: #262626\" transform=\"translate(319.996172 371.949219) scale(0.11 -0.11)\">\n       <defs>\n        <path id=\"ArialMT-32\" d=\"M 3222 541 \nL 3222 0 \nL 194 0 \nQ 188 203 259 391 \nQ 375 700 629 1000 \nQ 884 1300 1366 1694 \nQ 2113 2306 2375 2664 \nQ 2638 3022 2638 3341 \nQ 2638 3675 2398 3904 \nQ 2159 4134 1775 4134 \nQ 1369 4134 1125 3890 \nQ 881 3647 878 3216 \nL 300 3275 \nQ 359 3922 746 4261 \nQ 1134 4600 1788 4600 \nQ 2447 4600 2831 4234 \nQ 3216 3869 3216 3328 \nQ 3216 3053 3103 2787 \nQ 2991 2522 2730 2228 \nQ 2469 1934 1863 1422 \nQ 1356 997 1212 845 \nQ 1069 694 975 541 \nL 3222 541 \nz\n\" transform=\"scale(0.015625)\"/>\n       </defs>\n       <use xlink:href=\"#ArialMT-32\"/>\n      </g>\n     </g>\n    </g>\n    <g id=\"xtick_3\">\n     <g id=\"text_3\">\n      <!-- 3 -->\n      <g style=\"fill: #262626\" transform=\"translate(505.996172 371.949219) scale(0.11 -0.11)\">\n       <defs>\n        <path id=\"ArialMT-33\" d=\"M 269 1209 \nL 831 1284 \nQ 928 806 1161 595 \nQ 1394 384 1728 384 \nQ 2125 384 2398 659 \nQ 2672 934 2672 1341 \nQ 2672 1728 2419 1979 \nQ 2166 2231 1775 2231 \nQ 1616 2231 1378 2169 \nL 1441 2663 \nQ 1497 2656 1531 2656 \nQ 1891 2656 2178 2843 \nQ 2466 3031 2466 3422 \nQ 2466 3731 2256 3934 \nQ 2047 4138 1716 4138 \nQ 1388 4138 1169 3931 \nQ 950 3725 888 3313 \nL 325 3413 \nQ 428 3978 793 4289 \nQ 1159 4600 1703 4600 \nQ 2078 4600 2393 4439 \nQ 2709 4278 2876 4000 \nQ 3044 3722 3044 3409 \nQ 3044 3113 2884 2869 \nQ 2725 2625 2413 2481 \nQ 2819 2388 3044 2092 \nQ 3269 1797 3269 1353 \nQ 3269 753 2831 336 \nQ 2394 -81 1725 -81 \nQ 1122 -81 723 278 \nQ 325 638 269 1209 \nz\n\" transform=\"scale(0.015625)\"/>\n       </defs>\n       <use xlink:href=\"#ArialMT-33\"/>\n      </g>\n     </g>\n    </g>\n    <g id=\"text_4\">\n     <!-- Класс -->\n     <g style=\"fill: #262626\" transform=\"translate(306.7225 386.724844) scale(0.12 -0.12)\">\n      <defs>\n       <path id=\"ArialMT-41a\" d=\"M 503 4581 \nL 1109 4581 \nL 1109 2575 \nQ 1525 2575 1694 2736 \nQ 1863 2897 2125 3509 \nQ 2316 3959 2439 4145 \nQ 2563 4331 2791 4457 \nQ 3019 4584 3294 4584 \nQ 3644 4584 3663 4578 \nL 3663 4053 \nQ 3631 4053 3541 4056 \nQ 3441 4059 3419 4059 \nQ 3128 4059 2988 3919 \nQ 2844 3778 2659 3319 \nQ 2428 2738 2268 2586 \nQ 2109 2434 1888 2344 \nQ 2331 2222 2763 1525 \nL 3706 0 \nL 2953 0 \nL 2188 1244 \nQ 1872 1759 1659 1951 \nQ 1447 2144 1109 2144 \nL 1109 0 \nL 503 0 \nL 503 4581 \nz\n\" transform=\"scale(0.015625)\"/>\n       <path id=\"ArialMT-43b\" d=\"M 697 3319 \nL 3309 3319 \nL 3309 0 \nL 2750 0 \nL 2750 2853 \nL 1259 2853 \nL 1259 1200 \nQ 1259 622 1221 437 \nQ 1184 253 1015 115 \nQ 847 -22 528 -22 \nQ 331 -22 75 3 \nL 75 472 \nL 322 472 \nQ 497 472 572 508 \nQ 647 544 672 622 \nQ 697 700 697 1131 \nL 697 3319 \nz\n\" transform=\"scale(0.015625)\"/>\n       <path id=\"ArialMT-430\" d=\"M 2588 409 \nQ 2275 144 1986 34 \nQ 1697 -75 1366 -75 \nQ 819 -75 525 192 \nQ 231 459 231 875 \nQ 231 1119 342 1320 \nQ 453 1522 633 1644 \nQ 813 1766 1038 1828 \nQ 1203 1872 1538 1913 \nQ 2219 1994 2541 2106 \nQ 2544 2222 2544 2253 \nQ 2544 2597 2384 2738 \nQ 2169 2928 1744 2928 \nQ 1347 2928 1158 2789 \nQ 969 2650 878 2297 \nL 328 2372 \nQ 403 2725 575 2942 \nQ 747 3159 1072 3276 \nQ 1397 3394 1825 3394 \nQ 2250 3394 2515 3294 \nQ 2781 3194 2906 3042 \nQ 3031 2891 3081 2659 \nQ 3109 2516 3109 2141 \nL 3109 1391 \nQ 3109 606 3145 398 \nQ 3181 191 3288 0 \nL 2700 0 \nQ 2613 175 2588 409 \nz\nM 2541 1666 \nQ 2234 1541 1622 1453 \nQ 1275 1403 1131 1340 \nQ 988 1278 909 1158 \nQ 831 1038 831 891 \nQ 831 666 1001 516 \nQ 1172 366 1500 366 \nQ 1825 366 2078 508 \nQ 2331 650 2450 897 \nQ 2541 1088 2541 1459 \nL 2541 1666 \nz\n\" transform=\"scale(0.015625)\"/>\n       <path id=\"ArialMT-441\" d=\"M 2588 1216 \nL 3141 1144 \nQ 3050 572 2676 248 \nQ 2303 -75 1759 -75 \nQ 1078 -75 664 370 \nQ 250 816 250 1647 \nQ 250 2184 428 2587 \nQ 606 2991 970 3192 \nQ 1334 3394 1763 3394 \nQ 2303 3394 2647 3120 \nQ 2991 2847 3088 2344 \nL 2541 2259 \nQ 2463 2594 2264 2762 \nQ 2066 2931 1784 2931 \nQ 1359 2931 1093 2626 \nQ 828 2322 828 1663 \nQ 828 994 1084 691 \nQ 1341 388 1753 388 \nQ 2084 388 2306 591 \nQ 2528 794 2588 1216 \nz\n\" transform=\"scale(0.015625)\"/>\n      </defs>\n      <use xlink:href=\"#ArialMT-41a\"/>\n      <use xlink:href=\"#ArialMT-43b\" x=\"58.251953\"/>\n      <use xlink:href=\"#ArialMT-430\" x=\"116.601562\"/>\n      <use xlink:href=\"#ArialMT-441\" x=\"172.216797\"/>\n      <use xlink:href=\"#ArialMT-441\" x=\"222.216797\"/>\n     </g>\n    </g>\n   </g>\n   <g id=\"matplotlib.axis_2\">\n    <g id=\"ytick_1\">\n     <g id=\"line2d_1\">\n      <path d=\"M 44.054688 354.575625 \nL 602.054688 354.575625 \n\" clip-path=\"url(#p3edd8ba699)\" style=\"fill: none; stroke: #ffffff; stroke-linecap: round\"/>\n     </g>\n     <g id=\"text_5\">\n      <!-- 0 -->\n      <g style=\"fill: #262626\" transform=\"translate(28.437656 358.512422) scale(0.11 -0.11)\">\n       <defs>\n        <path id=\"ArialMT-30\" d=\"M 266 2259 \nQ 266 3072 433 3567 \nQ 600 4063 929 4331 \nQ 1259 4600 1759 4600 \nQ 2128 4600 2406 4451 \nQ 2684 4303 2865 4023 \nQ 3047 3744 3150 3342 \nQ 3253 2941 3253 2259 \nQ 3253 1453 3087 958 \nQ 2922 463 2592 192 \nQ 2263 -78 1759 -78 \nQ 1097 -78 719 397 \nQ 266 969 266 2259 \nz\nM 844 2259 \nQ 844 1131 1108 757 \nQ 1372 384 1759 384 \nQ 2147 384 2411 759 \nQ 2675 1134 2675 2259 \nQ 2675 3391 2411 3762 \nQ 2147 4134 1753 4134 \nQ 1366 4134 1134 3806 \nQ 844 3388 844 2259 \nz\n\" transform=\"scale(0.015625)\"/>\n       </defs>\n       <use xlink:href=\"#ArialMT-30\"/>\n      </g>\n     </g>\n    </g>\n    <g id=\"ytick_2\">\n     <g id=\"line2d_2\">\n      <path d=\"M 44.054688 316.20482 \nL 602.054688 316.20482 \n\" clip-path=\"url(#p3edd8ba699)\" style=\"fill: none; stroke: #ffffff; stroke-linecap: round\"/>\n     </g>\n     <g id=\"text_6\">\n      <!-- 5 -->\n      <g style=\"fill: #262626\" transform=\"translate(28.437656 320.141617) scale(0.11 -0.11)\">\n       <defs>\n        <path id=\"ArialMT-35\" d=\"M 266 1200 \nL 856 1250 \nQ 922 819 1161 601 \nQ 1400 384 1738 384 \nQ 2144 384 2425 690 \nQ 2706 997 2706 1503 \nQ 2706 1984 2436 2262 \nQ 2166 2541 1728 2541 \nQ 1456 2541 1237 2417 \nQ 1019 2294 894 2097 \nL 366 2166 \nL 809 4519 \nL 3088 4519 \nL 3088 3981 \nL 1259 3981 \nL 1013 2750 \nQ 1425 3038 1878 3038 \nQ 2478 3038 2890 2622 \nQ 3303 2206 3303 1553 \nQ 3303 931 2941 478 \nQ 2500 -78 1738 -78 \nQ 1113 -78 717 272 \nQ 322 622 266 1200 \nz\n\" transform=\"scale(0.015625)\"/>\n       </defs>\n       <use xlink:href=\"#ArialMT-35\"/>\n      </g>\n     </g>\n    </g>\n    <g id=\"ytick_3\">\n     <g id=\"line2d_3\">\n      <path d=\"M 44.054688 277.834016 \nL 602.054688 277.834016 \n\" clip-path=\"url(#p3edd8ba699)\" style=\"fill: none; stroke: #ffffff; stroke-linecap: round\"/>\n     </g>\n     <g id=\"text_7\">\n      <!-- 10 -->\n      <g style=\"fill: #262626\" transform=\"translate(22.320625 281.770813) scale(0.11 -0.11)\">\n       <use xlink:href=\"#ArialMT-31\"/>\n       <use xlink:href=\"#ArialMT-30\" x=\"55.615234\"/>\n      </g>\n     </g>\n    </g>\n    <g id=\"ytick_4\">\n     <g id=\"line2d_4\">\n      <path d=\"M 44.054688 239.463211 \nL 602.054688 239.463211 \n\" clip-path=\"url(#p3edd8ba699)\" style=\"fill: none; stroke: #ffffff; stroke-linecap: round\"/>\n     </g>\n     <g id=\"text_8\">\n      <!-- 15 -->\n      <g style=\"fill: #262626\" transform=\"translate(22.320625 243.400008) scale(0.11 -0.11)\">\n       <use xlink:href=\"#ArialMT-31\"/>\n       <use xlink:href=\"#ArialMT-35\" x=\"55.615234\"/>\n      </g>\n     </g>\n    </g>\n    <g id=\"ytick_5\">\n     <g id=\"line2d_5\">\n      <path d=\"M 44.054688 201.092407 \nL 602.054688 201.092407 \n\" clip-path=\"url(#p3edd8ba699)\" style=\"fill: none; stroke: #ffffff; stroke-linecap: round\"/>\n     </g>\n     <g id=\"text_9\">\n      <!-- 20 -->\n      <g style=\"fill: #262626\" transform=\"translate(22.320625 205.029204) scale(0.11 -0.11)\">\n       <use xlink:href=\"#ArialMT-32\"/>\n       <use xlink:href=\"#ArialMT-30\" x=\"55.615234\"/>\n      </g>\n     </g>\n    </g>\n    <g id=\"ytick_6\">\n     <g id=\"line2d_6\">\n      <path d=\"M 44.054688 162.721602 \nL 602.054688 162.721602 \n\" clip-path=\"url(#p3edd8ba699)\" style=\"fill: none; stroke: #ffffff; stroke-linecap: round\"/>\n     </g>\n     <g id=\"text_10\">\n      <!-- 25 -->\n      <g style=\"fill: #262626\" transform=\"translate(22.320625 166.658399) scale(0.11 -0.11)\">\n       <use xlink:href=\"#ArialMT-32\"/>\n       <use xlink:href=\"#ArialMT-35\" x=\"55.615234\"/>\n      </g>\n     </g>\n    </g>\n    <g id=\"ytick_7\">\n     <g id=\"line2d_7\">\n      <path d=\"M 44.054688 124.350798 \nL 602.054688 124.350798 \n\" clip-path=\"url(#p3edd8ba699)\" style=\"fill: none; stroke: #ffffff; stroke-linecap: round\"/>\n     </g>\n     <g id=\"text_11\">\n      <!-- 30 -->\n      <g style=\"fill: #262626\" transform=\"translate(22.320625 128.287594) scale(0.11 -0.11)\">\n       <use xlink:href=\"#ArialMT-33\"/>\n       <use xlink:href=\"#ArialMT-30\" x=\"55.615234\"/>\n      </g>\n     </g>\n    </g>\n    <g id=\"ytick_8\">\n     <g id=\"line2d_8\">\n      <path d=\"M 44.054688 85.979993 \nL 602.054688 85.979993 \n\" clip-path=\"url(#p3edd8ba699)\" style=\"fill: none; stroke: #ffffff; stroke-linecap: round\"/>\n     </g>\n     <g id=\"text_12\">\n      <!-- 35 -->\n      <g style=\"fill: #262626\" transform=\"translate(22.320625 89.91679) scale(0.11 -0.11)\">\n       <use xlink:href=\"#ArialMT-33\"/>\n       <use xlink:href=\"#ArialMT-35\" x=\"55.615234\"/>\n      </g>\n     </g>\n    </g>\n    <g id=\"ytick_9\">\n     <g id=\"line2d_9\">\n      <path d=\"M 44.054688 47.609188 \nL 602.054688 47.609188 \n\" clip-path=\"url(#p3edd8ba699)\" style=\"fill: none; stroke: #ffffff; stroke-linecap: round\"/>\n     </g>\n     <g id=\"text_13\">\n      <!-- 40 -->\n      <g style=\"fill: #262626\" transform=\"translate(22.320625 51.545985) scale(0.11 -0.11)\">\n       <defs>\n        <path id=\"ArialMT-34\" d=\"M 2069 0 \nL 2069 1097 \nL 81 1097 \nL 81 1613 \nL 2172 4581 \nL 2631 4581 \nL 2631 1613 \nL 3250 1613 \nL 3250 1097 \nL 2631 1097 \nL 2631 0 \nL 2069 0 \nz\nM 2069 1613 \nL 2069 3678 \nL 634 1613 \nL 2069 1613 \nz\n\" transform=\"scale(0.015625)\"/>\n       </defs>\n       <use xlink:href=\"#ArialMT-34\"/>\n       <use xlink:href=\"#ArialMT-30\" x=\"55.615234\"/>\n      </g>\n     </g>\n    </g>\n    <g id=\"text_14\">\n     <!-- Средний возраст -->\n     <g style=\"fill: #262626\" transform=\"translate(15.935625 235.87125) rotate(-90) scale(0.12 -0.12)\">\n      <defs>\n       <path id=\"ArialMT-421\" d=\"M 3763 1606 \nL 4369 1453 \nQ 4178 706 3683 314 \nQ 3188 -78 2472 -78 \nQ 1731 -78 1267 223 \nQ 803 525 561 1097 \nQ 319 1669 319 2325 \nQ 319 3041 592 3573 \nQ 866 4106 1370 4382 \nQ 1875 4659 2481 4659 \nQ 3169 4659 3637 4309 \nQ 4106 3959 4291 3325 \nL 3694 3184 \nQ 3534 3684 3231 3912 \nQ 2928 4141 2469 4141 \nQ 1941 4141 1586 3887 \nQ 1231 3634 1087 3207 \nQ 944 2781 944 2328 \nQ 944 1744 1114 1308 \nQ 1284 872 1643 656 \nQ 2003 441 2422 441 \nQ 2931 441 3284 734 \nQ 3638 1028 3763 1606 \nz\n\" transform=\"scale(0.015625)\"/>\n       <path id=\"ArialMT-440\" d=\"M 422 -1272 \nL 422 3319 \nL 934 3319 \nL 934 2888 \nQ 1116 3141 1344 3267 \nQ 1572 3394 1897 3394 \nQ 2322 3394 2647 3175 \nQ 2972 2956 3137 2557 \nQ 3303 2159 3303 1684 \nQ 3303 1175 3120 767 \nQ 2938 359 2589 142 \nQ 2241 -75 1856 -75 \nQ 1575 -75 1351 44 \nQ 1128 163 984 344 \nL 984 -1272 \nL 422 -1272 \nz\nM 931 1641 \nQ 931 1000 1190 694 \nQ 1450 388 1819 388 \nQ 2194 388 2461 705 \nQ 2728 1022 2728 1688 \nQ 2728 2322 2467 2637 \nQ 2206 2953 1844 2953 \nQ 1484 2953 1207 2617 \nQ 931 2281 931 1641 \nz\n\" transform=\"scale(0.015625)\"/>\n       <path id=\"ArialMT-435\" d=\"M 2694 1069 \nL 3275 997 \nQ 3138 488 2766 206 \nQ 2394 -75 1816 -75 \nQ 1088 -75 661 373 \nQ 234 822 234 1631 \nQ 234 2469 665 2931 \nQ 1097 3394 1784 3394 \nQ 2450 3394 2872 2941 \nQ 3294 2488 3294 1666 \nQ 3294 1616 3291 1516 \nL 816 1516 \nQ 847 969 1125 678 \nQ 1403 388 1819 388 \nQ 2128 388 2347 550 \nQ 2566 713 2694 1069 \nz\nM 847 1978 \nL 2700 1978 \nQ 2663 2397 2488 2606 \nQ 2219 2931 1791 2931 \nQ 1403 2931 1139 2672 \nQ 875 2413 847 1978 \nz\n\" transform=\"scale(0.015625)\"/>\n       <path id=\"ArialMT-434\" d=\"M 866 3319 \nL 3178 3319 \nL 3178 463 \nL 3538 463 \nL 3538 -941 \nL 3075 -941 \nL 3075 0 \nL 463 0 \nL 463 -941 \nL 0 -941 \nL 0 463 \nL 297 463 \nQ 891 1269 866 3319 \nz\nM 1334 2853 \nQ 1272 1238 834 463 \nL 2619 463 \nL 2619 2853 \nL 1334 2853 \nz\n\" transform=\"scale(0.015625)\"/>\n       <path id=\"ArialMT-43d\" d=\"M 425 3319 \nL 988 3319 \nL 988 1938 \nL 2547 1938 \nL 2547 3319 \nL 3109 3319 \nL 3109 0 \nL 2547 0 \nL 2547 1472 \nL 988 1472 \nL 988 0 \nL 425 0 \nL 425 3319 \nz\n\" transform=\"scale(0.015625)\"/>\n       <path id=\"ArialMT-438\" d=\"M 422 3319 \nL 984 3319 \nL 984 788 \nL 2544 3319 \nL 3150 3319 \nL 3150 0 \nL 2588 0 \nL 2588 2516 \nL 1028 0 \nL 422 0 \nL 422 3319 \nz\n\" transform=\"scale(0.015625)\"/>\n       <path id=\"ArialMT-439\" d=\"M 422 3319 \nL 984 3319 \nL 984 788 \nL 2544 3319 \nL 3150 3319 \nL 3150 0 \nL 2588 0 \nL 2588 2516 \nL 1028 0 \nL 422 0 \nL 422 3319 \nz\nM 2374 4575 \nL 2759 4575 \nQ 2712 4184 2473 3975 \nQ 2234 3766 1837 3766 \nQ 1437 3766 1198 3973 \nQ 959 4181 912 4575 \nL 1296 4575 \nQ 1340 4363 1469 4258 \nQ 1599 4153 1818 4153 \nQ 2071 4153 2201 4254 \nQ 2331 4356 2374 4575 \nz\n\" transform=\"scale(0.015625)\"/>\n       <path id=\"ArialMT-20\" transform=\"scale(0.015625)\"/>\n       <path id=\"ArialMT-432\" d=\"M 425 3319 \nL 1722 3319 \nQ 2200 3319 2433 3239 \nQ 2666 3159 2833 2946 \nQ 3000 2734 3000 2438 \nQ 3000 2200 2901 2023 \nQ 2803 1847 2606 1728 \nQ 2841 1650 2995 1436 \nQ 3150 1222 3150 928 \nQ 3119 456 2812 228 \nQ 2506 0 1922 0 \nL 425 0 \nL 425 3319 \nz\nM 988 1922 \nL 1588 1922 \nQ 1947 1922 2081 1959 \nQ 2216 1997 2322 2111 \nQ 2428 2225 2428 2384 \nQ 2428 2647 2242 2750 \nQ 2056 2853 1606 2853 \nL 988 2853 \nL 988 1922 \nz\nM 988 463 \nL 1728 463 \nQ 2206 463 2384 573 \nQ 2563 684 2572 956 \nQ 2572 1116 2469 1252 \nQ 2366 1388 2200 1423 \nQ 2034 1459 1669 1459 \nL 988 1459 \nL 988 463 \nz\n\" transform=\"scale(0.015625)\"/>\n       <path id=\"ArialMT-43e\" d=\"M 213 1659 \nQ 213 2581 725 3025 \nQ 1153 3394 1769 3394 \nQ 2453 3394 2887 2945 \nQ 3322 2497 3322 1706 \nQ 3322 1066 3130 698 \nQ 2938 331 2570 128 \nQ 2203 -75 1769 -75 \nQ 1072 -75 642 372 \nQ 213 819 213 1659 \nz\nM 791 1659 \nQ 791 1022 1069 705 \nQ 1347 388 1769 388 \nQ 2188 388 2466 706 \nQ 2744 1025 2744 1678 \nQ 2744 2294 2464 2611 \nQ 2184 2928 1769 2928 \nQ 1347 2928 1069 2612 \nQ 791 2297 791 1659 \nz\n\" transform=\"scale(0.015625)\"/>\n       <path id=\"ArialMT-437\" d=\"M 1156 1500 \nL 1156 1941 \nQ 1513 1944 1642 1969 \nQ 1772 1994 1887 2119 \nQ 2003 2244 2003 2431 \nQ 2003 2659 1851 2795 \nQ 1700 2931 1459 2931 \nQ 984 2931 794 2372 \nL 259 2459 \nQ 509 3394 1466 3394 \nQ 1997 3394 2298 3103 \nQ 2600 2813 2600 2409 \nQ 2600 2003 2206 1763 \nQ 2456 1628 2581 1420 \nQ 2706 1213 2706 928 \nQ 2706 481 2381 203 \nQ 2056 -75 1472 -75 \nQ 338 -75 156 934 \nL 684 1047 \nQ 756 728 976 553 \nQ 1197 378 1481 378 \nQ 1766 378 1955 539 \nQ 2144 700 2144 950 \nQ 2144 1144 2025 1287 \nQ 1906 1431 1772 1467 \nQ 1638 1503 1284 1503 \nQ 1256 1503 1156 1500 \nz\n\" transform=\"scale(0.015625)\"/>\n       <path id=\"ArialMT-442\" d=\"M 119 3319 \nL 2816 3319 \nL 2816 2853 \nL 1747 2853 \nL 1747 0 \nL 1188 0 \nL 1188 2853 \nL 119 2853 \nL 119 3319 \nz\n\" transform=\"scale(0.015625)\"/>\n      </defs>\n      <use xlink:href=\"#ArialMT-421\"/>\n      <use xlink:href=\"#ArialMT-440\" x=\"72.216797\"/>\n      <use xlink:href=\"#ArialMT-435\" x=\"127.832031\"/>\n      <use xlink:href=\"#ArialMT-434\" x=\"181.197266\"/>\n      <use xlink:href=\"#ArialMT-43d\" x=\"239.546875\"/>\n      <use xlink:href=\"#ArialMT-438\" x=\"294.771484\"/>\n      <use xlink:href=\"#ArialMT-439\" x=\"350.630859\"/>\n      <use xlink:href=\"#ArialMT-20\" x=\"406.490234\"/>\n      <use xlink:href=\"#ArialMT-432\" x=\"434.273438\"/>\n      <use xlink:href=\"#ArialMT-43e\" x=\"486.273438\"/>\n      <use xlink:href=\"#ArialMT-437\" x=\"540.763672\"/>\n      <use xlink:href=\"#ArialMT-440\" x=\"586.613281\"/>\n      <use xlink:href=\"#ArialMT-430\" x=\"642.228516\"/>\n      <use xlink:href=\"#ArialMT-441\" x=\"697.84375\"/>\n      <use xlink:href=\"#ArialMT-442\" x=\"747.84375\"/>\n     </g>\n    </g>\n   </g>\n   <g id=\"patch_3\">\n    <path d=\"M 62.654687 354.575625 \nL 137.054688 354.575625 \nL 137.054688 88.959373 \nL 62.654687 88.959373 \nz\n\" clip-path=\"url(#p3edd8ba699)\" style=\"fill: #5875a4; stroke: #ffffff; stroke-linejoin: miter\"/>\n   </g>\n   <g id=\"patch_4\">\n    <path d=\"M 248.654688 354.575625 \nL 323.054688 354.575625 \nL 323.054688 134.150908 \nL 248.654688 134.150908 \nz\n\" clip-path=\"url(#p3edd8ba699)\" style=\"fill: #5875a4; stroke: #ffffff; stroke-linejoin: miter\"/>\n   </g>\n   <g id=\"patch_5\">\n    <path d=\"M 434.654688 354.575625 \nL 509.054688 354.575625 \nL 509.054688 187.662625 \nL 434.654688 187.662625 \nz\n\" clip-path=\"url(#p3edd8ba699)\" style=\"fill: #5875a4; stroke: #ffffff; stroke-linejoin: miter\"/>\n   </g>\n   <g id=\"patch_6\">\n    <path d=\"M 137.054688 354.575625 \nL 211.454688 354.575625 \nL 211.454688 37.775625 \nL 137.054688 37.775625 \nz\n\" clip-path=\"url(#p3edd8ba699)\" style=\"fill: #cc8963; stroke: #ffffff; stroke-linejoin: miter\"/>\n   </g>\n   <g id=\"patch_7\">\n    <path d=\"M 323.054688 354.575625 \nL 397.454687 354.575625 \nL 397.454687 118.666492 \nL 323.054688 118.666492 \nz\n\" clip-path=\"url(#p3edd8ba699)\" style=\"fill: #cc8963; stroke: #ffffff; stroke-linejoin: miter\"/>\n   </g>\n   <g id=\"patch_8\">\n    <path d=\"M 509.054688 354.575625 \nL 583.454688 354.575625 \nL 583.454688 151.152122 \nL 509.054688 151.152122 \nz\n\" clip-path=\"url(#p3edd8ba699)\" style=\"fill: #cc8963; stroke: #ffffff; stroke-linejoin: miter\"/>\n   </g>\n   <g id=\"patch_9\">\n    <path d=\"M 137.054688 354.575625 \nL 137.054688 354.575625 \nL 137.054688 354.575625 \nL 137.054688 354.575625 \nz\n\" clip-path=\"url(#p3edd8ba699)\" style=\"fill: #5875a4; stroke: #ffffff; stroke-linejoin: miter\"/>\n   </g>\n   <g id=\"patch_10\">\n    <path d=\"M 137.054688 354.575625 \nL 137.054688 354.575625 \nL 137.054688 354.575625 \nL 137.054688 354.575625 \nz\n\" clip-path=\"url(#p3edd8ba699)\" style=\"fill: #cc8963; stroke: #ffffff; stroke-linejoin: miter\"/>\n   </g>\n   <g id=\"line2d_10\">\n    <path clip-path=\"url(#p3edd8ba699)\" style=\"fill: none; stroke: #424242; stroke-width: 2.25; stroke-linecap: round\"/>\n   </g>\n   <g id=\"line2d_11\">\n    <path clip-path=\"url(#p3edd8ba699)\" style=\"fill: none; stroke: #424242; stroke-width: 2.25; stroke-linecap: round\"/>\n   </g>\n   <g id=\"line2d_12\">\n    <path clip-path=\"url(#p3edd8ba699)\" style=\"fill: none; stroke: #424242; stroke-width: 2.25; stroke-linecap: round\"/>\n   </g>\n   <g id=\"line2d_13\">\n    <path clip-path=\"url(#p3edd8ba699)\" style=\"fill: none; stroke: #424242; stroke-width: 2.25; stroke-linecap: round\"/>\n   </g>\n   <g id=\"line2d_14\">\n    <path clip-path=\"url(#p3edd8ba699)\" style=\"fill: none; stroke: #424242; stroke-width: 2.25; stroke-linecap: round\"/>\n   </g>\n   <g id=\"line2d_15\">\n    <path clip-path=\"url(#p3edd8ba699)\" style=\"fill: none; stroke: #424242; stroke-width: 2.25; stroke-linecap: round\"/>\n   </g>\n   <g id=\"patch_11\">\n    <path d=\"M 44.054688 354.575625 \nL 44.054688 21.935625 \n\" style=\"fill: none; stroke: #ffffff; stroke-width: 1.25; stroke-linejoin: miter; stroke-linecap: square\"/>\n   </g>\n   <g id=\"patch_12\">\n    <path d=\"M 602.054688 354.575625 \nL 602.054688 21.935625 \n\" style=\"fill: none; stroke: #ffffff; stroke-width: 1.25; stroke-linejoin: miter; stroke-linecap: square\"/>\n   </g>\n   <g id=\"patch_13\">\n    <path d=\"M 44.054688 354.575625 \nL 602.054688 354.575625 \n\" style=\"fill: none; stroke: #ffffff; stroke-width: 1.25; stroke-linejoin: miter; stroke-linecap: square\"/>\n   </g>\n   <g id=\"patch_14\">\n    <path d=\"M 44.054688 21.935625 \nL 602.054688 21.935625 \n\" style=\"fill: none; stroke: #ffffff; stroke-width: 1.25; stroke-linejoin: miter; stroke-linecap: square\"/>\n   </g>\n   <g id=\"text_15\">\n    <!-- Средний возраст по классу и полу -->\n    <g style=\"fill: #262626\" transform=\"translate(227.352812 15.935625) scale(0.12 -0.12)\">\n     <defs>\n      <path id=\"ArialMT-43f\" d=\"M 425 3319 \nL 3044 3319 \nL 3044 0 \nL 2481 0 \nL 2481 2853 \nL 988 2853 \nL 988 0 \nL 425 0 \nL 425 3319 \nz\n\" transform=\"scale(0.015625)\"/>\n      <path id=\"ArialMT-43a\" d=\"M 419 3319 \nL 981 3319 \nL 981 1884 \nQ 1250 1884 1358 1987 \nQ 1466 2091 1675 2588 \nQ 1841 2981 1944 3106 \nQ 2047 3231 2181 3275 \nQ 2316 3319 2613 3319 \nL 2725 3319 \nL 2725 2853 \nL 2569 2856 \nQ 2347 2856 2284 2791 \nQ 2219 2722 2084 2381 \nQ 1956 2056 1850 1931 \nQ 1744 1806 1522 1703 \nQ 1884 1606 2234 1028 \nL 2850 0 \nL 2231 0 \nL 1631 1028 \nQ 1447 1338 1309 1436 \nQ 1172 1534 981 1534 \nL 981 0 \nL 419 0 \nL 419 3319 \nz\n\" transform=\"scale(0.015625)\"/>\n      <path id=\"ArialMT-443\" d=\"M 397 -1278 \nL 334 -750 \nQ 519 -800 656 -800 \nQ 844 -800 956 -737 \nQ 1069 -675 1141 -563 \nQ 1194 -478 1313 -144 \nQ 1328 -97 1363 -6 \nL 103 3319 \nL 709 3319 \nL 1400 1397 \nQ 1534 1031 1641 628 \nQ 1738 1016 1872 1384 \nL 2581 3319 \nL 3144 3319 \nL 1881 -56 \nQ 1678 -603 1566 -809 \nQ 1416 -1088 1222 -1217 \nQ 1028 -1347 759 -1347 \nQ 597 -1347 397 -1278 \nz\n\" transform=\"scale(0.015625)\"/>\n     </defs>\n     <use xlink:href=\"#ArialMT-421\"/>\n     <use xlink:href=\"#ArialMT-440\" x=\"72.216797\"/>\n     <use xlink:href=\"#ArialMT-435\" x=\"127.832031\"/>\n     <use xlink:href=\"#ArialMT-434\" x=\"181.197266\"/>\n     <use xlink:href=\"#ArialMT-43d\" x=\"239.546875\"/>\n     <use xlink:href=\"#ArialMT-438\" x=\"294.771484\"/>\n     <use xlink:href=\"#ArialMT-439\" x=\"350.630859\"/>\n     <use xlink:href=\"#ArialMT-20\" x=\"406.490234\"/>\n     <use xlink:href=\"#ArialMT-432\" x=\"434.273438\"/>\n     <use xlink:href=\"#ArialMT-43e\" x=\"486.273438\"/>\n     <use xlink:href=\"#ArialMT-437\" x=\"540.763672\"/>\n     <use xlink:href=\"#ArialMT-440\" x=\"586.613281\"/>\n     <use xlink:href=\"#ArialMT-430\" x=\"642.228516\"/>\n     <use xlink:href=\"#ArialMT-441\" x=\"697.84375\"/>\n     <use xlink:href=\"#ArialMT-442\" x=\"747.84375\"/>\n     <use xlink:href=\"#ArialMT-20\" x=\"793.644531\"/>\n     <use xlink:href=\"#ArialMT-43f\" x=\"821.427734\"/>\n     <use xlink:href=\"#ArialMT-43e\" x=\"875.578125\"/>\n     <use xlink:href=\"#ArialMT-20\" x=\"931.193359\"/>\n     <use xlink:href=\"#ArialMT-43a\" x=\"958.976562\"/>\n     <use xlink:href=\"#ArialMT-43b\" x=\"1003.851562\"/>\n     <use xlink:href=\"#ArialMT-430\" x=\"1062.201172\"/>\n     <use xlink:href=\"#ArialMT-441\" x=\"1117.816406\"/>\n     <use xlink:href=\"#ArialMT-441\" x=\"1167.816406\"/>\n     <use xlink:href=\"#ArialMT-443\" x=\"1217.816406\"/>\n     <use xlink:href=\"#ArialMT-20\" x=\"1267.816406\"/>\n     <use xlink:href=\"#ArialMT-438\" x=\"1295.599609\"/>\n     <use xlink:href=\"#ArialMT-20\" x=\"1351.458984\"/>\n     <use xlink:href=\"#ArialMT-43f\" x=\"1379.242188\"/>\n     <use xlink:href=\"#ArialMT-43e\" x=\"1433.392578\"/>\n     <use xlink:href=\"#ArialMT-43b\" x=\"1486.757812\"/>\n     <use xlink:href=\"#ArialMT-443\" x=\"1545.107422\"/>\n    </g>\n   </g>\n   <g id=\"legend_1\">\n    <g id=\"patch_15\">\n     <path d=\"M 526.140938 78.329688 \nL 594.354687 78.329688 \nQ 596.554688 78.329688 596.554688 76.129688 \nL 596.554688 29.635625 \nQ 596.554688 27.435625 594.354687 27.435625 \nL 526.140938 27.435625 \nQ 523.940938 27.435625 523.940938 29.635625 \nL 523.940938 76.129688 \nQ 523.940938 78.329688 526.140938 78.329688 \nz\n\" style=\"fill: #eaeaf2; opacity: 0.8; stroke: #cccccc; stroke-linejoin: miter\"/>\n    </g>\n    <g id=\"text_16\">\n     <!-- Sex -->\n     <g style=\"fill: #262626\" transform=\"translate(549.909063 40.425) scale(0.12 -0.12)\">\n      <defs>\n       <path id=\"ArialMT-53\" d=\"M 288 1472 \nL 859 1522 \nQ 900 1178 1048 958 \nQ 1197 738 1509 602 \nQ 1822 466 2213 466 \nQ 2559 466 2825 569 \nQ 3091 672 3220 851 \nQ 3350 1031 3350 1244 \nQ 3350 1459 3225 1620 \nQ 3100 1781 2813 1891 \nQ 2628 1963 1997 2114 \nQ 1366 2266 1113 2400 \nQ 784 2572 623 2826 \nQ 463 3081 463 3397 \nQ 463 3744 659 4045 \nQ 856 4347 1234 4503 \nQ 1613 4659 2075 4659 \nQ 2584 4659 2973 4495 \nQ 3363 4331 3572 4012 \nQ 3781 3694 3797 3291 \nL 3216 3247 \nQ 3169 3681 2898 3903 \nQ 2628 4125 2100 4125 \nQ 1550 4125 1298 3923 \nQ 1047 3722 1047 3438 \nQ 1047 3191 1225 3031 \nQ 1400 2872 2139 2705 \nQ 2878 2538 3153 2413 \nQ 3553 2228 3743 1945 \nQ 3934 1663 3934 1294 \nQ 3934 928 3725 604 \nQ 3516 281 3123 101 \nQ 2731 -78 2241 -78 \nQ 1619 -78 1198 103 \nQ 778 284 539 648 \nQ 300 1013 288 1472 \nz\n\" transform=\"scale(0.015625)\"/>\n       <path id=\"ArialMT-65\" d=\"M 2694 1069 \nL 3275 997 \nQ 3138 488 2766 206 \nQ 2394 -75 1816 -75 \nQ 1088 -75 661 373 \nQ 234 822 234 1631 \nQ 234 2469 665 2931 \nQ 1097 3394 1784 3394 \nQ 2450 3394 2872 2941 \nQ 3294 2488 3294 1666 \nQ 3294 1616 3291 1516 \nL 816 1516 \nQ 847 969 1125 678 \nQ 1403 388 1819 388 \nQ 2128 388 2347 550 \nQ 2566 713 2694 1069 \nz\nM 847 1978 \nL 2700 1978 \nQ 2663 2397 2488 2606 \nQ 2219 2931 1791 2931 \nQ 1403 2931 1139 2672 \nQ 875 2413 847 1978 \nz\n\" transform=\"scale(0.015625)\"/>\n       <path id=\"ArialMT-78\" d=\"M 47 0 \nL 1259 1725 \nL 138 3319 \nL 841 3319 \nL 1350 2541 \nQ 1494 2319 1581 2169 \nQ 1719 2375 1834 2534 \nL 2394 3319 \nL 3066 3319 \nL 1919 1756 \nL 3153 0 \nL 2463 0 \nL 1781 1031 \nL 1600 1309 \nL 728 0 \nL 47 0 \nz\n\" transform=\"scale(0.015625)\"/>\n      </defs>\n      <use xlink:href=\"#ArialMT-53\"/>\n      <use xlink:href=\"#ArialMT-65\" x=\"66.699219\"/>\n      <use xlink:href=\"#ArialMT-78\" x=\"122.314453\"/>\n     </g>\n    </g>\n    <g id=\"patch_16\">\n     <path d=\"M 528.340937 56.183594 \nL 550.340937 56.183594 \nL 550.340937 48.483594 \nL 528.340937 48.483594 \nz\n\" style=\"fill: #5875a4; stroke: #ffffff; stroke-linejoin: miter\"/>\n    </g>\n    <g id=\"text_17\">\n     <!-- female -->\n     <g style=\"fill: #262626\" transform=\"translate(559.140937 56.183594) scale(0.11 -0.11)\">\n      <defs>\n       <path id=\"ArialMT-66\" d=\"M 556 0 \nL 556 2881 \nL 59 2881 \nL 59 3319 \nL 556 3319 \nL 556 3672 \nQ 556 4006 616 4169 \nQ 697 4388 901 4523 \nQ 1106 4659 1475 4659 \nQ 1713 4659 2000 4603 \nL 1916 4113 \nQ 1741 4144 1584 4144 \nQ 1328 4144 1222 4034 \nQ 1116 3925 1116 3625 \nL 1116 3319 \nL 1763 3319 \nL 1763 2881 \nL 1116 2881 \nL 1116 0 \nL 556 0 \nz\n\" transform=\"scale(0.015625)\"/>\n       <path id=\"ArialMT-6d\" d=\"M 422 0 \nL 422 3319 \nL 925 3319 \nL 925 2853 \nQ 1081 3097 1340 3245 \nQ 1600 3394 1931 3394 \nQ 2300 3394 2536 3241 \nQ 2772 3088 2869 2813 \nQ 3263 3394 3894 3394 \nQ 4388 3394 4653 3120 \nQ 4919 2847 4919 2278 \nL 4919 0 \nL 4359 0 \nL 4359 2091 \nQ 4359 2428 4304 2576 \nQ 4250 2725 4106 2815 \nQ 3963 2906 3769 2906 \nQ 3419 2906 3187 2673 \nQ 2956 2441 2956 1928 \nL 2956 0 \nL 2394 0 \nL 2394 2156 \nQ 2394 2531 2256 2718 \nQ 2119 2906 1806 2906 \nQ 1569 2906 1367 2781 \nQ 1166 2656 1075 2415 \nQ 984 2175 984 1722 \nL 984 0 \nL 422 0 \nz\n\" transform=\"scale(0.015625)\"/>\n       <path id=\"ArialMT-61\" d=\"M 2588 409 \nQ 2275 144 1986 34 \nQ 1697 -75 1366 -75 \nQ 819 -75 525 192 \nQ 231 459 231 875 \nQ 231 1119 342 1320 \nQ 453 1522 633 1644 \nQ 813 1766 1038 1828 \nQ 1203 1872 1538 1913 \nQ 2219 1994 2541 2106 \nQ 2544 2222 2544 2253 \nQ 2544 2597 2384 2738 \nQ 2169 2928 1744 2928 \nQ 1347 2928 1158 2789 \nQ 969 2650 878 2297 \nL 328 2372 \nQ 403 2725 575 2942 \nQ 747 3159 1072 3276 \nQ 1397 3394 1825 3394 \nQ 2250 3394 2515 3294 \nQ 2781 3194 2906 3042 \nQ 3031 2891 3081 2659 \nQ 3109 2516 3109 2141 \nL 3109 1391 \nQ 3109 606 3145 398 \nQ 3181 191 3288 0 \nL 2700 0 \nQ 2613 175 2588 409 \nz\nM 2541 1666 \nQ 2234 1541 1622 1453 \nQ 1275 1403 1131 1340 \nQ 988 1278 909 1158 \nQ 831 1038 831 891 \nQ 831 666 1001 516 \nQ 1172 366 1500 366 \nQ 1825 366 2078 508 \nQ 2331 650 2450 897 \nQ 2541 1088 2541 1459 \nL 2541 1666 \nz\n\" transform=\"scale(0.015625)\"/>\n       <path id=\"ArialMT-6c\" d=\"M 409 0 \nL 409 4581 \nL 972 4581 \nL 972 0 \nL 409 0 \nz\n\" transform=\"scale(0.015625)\"/>\n      </defs>\n      <use xlink:href=\"#ArialMT-66\"/>\n      <use xlink:href=\"#ArialMT-65\" x=\"27.783203\"/>\n      <use xlink:href=\"#ArialMT-6d\" x=\"83.398438\"/>\n      <use xlink:href=\"#ArialMT-61\" x=\"166.699219\"/>\n      <use xlink:href=\"#ArialMT-6c\" x=\"222.314453\"/>\n      <use xlink:href=\"#ArialMT-65\" x=\"244.53125\"/>\n     </g>\n    </g>\n    <g id=\"patch_17\">\n     <path d=\"M 528.340937 71.743438 \nL 550.340937 71.743438 \nL 550.340937 64.043438 \nL 528.340937 64.043438 \nz\n\" style=\"fill: #cc8963; stroke: #ffffff; stroke-linejoin: miter\"/>\n    </g>\n    <g id=\"text_18\">\n     <!-- male -->\n     <g style=\"fill: #262626\" transform=\"translate(559.140937 71.743438) scale(0.11 -0.11)\">\n      <use xlink:href=\"#ArialMT-6d\"/>\n      <use xlink:href=\"#ArialMT-61\" x=\"83.300781\"/>\n      <use xlink:href=\"#ArialMT-6c\" x=\"138.916016\"/>\n      <use xlink:href=\"#ArialMT-65\" x=\"161.132812\"/>\n     </g>\n    </g>\n   </g>\n  </g>\n </g>\n <defs>\n  <clipPath id=\"p3edd8ba699\">\n   <rect x=\"44.054688\" y=\"21.935625\" width=\"558\" height=\"332.64\"/>\n  </clipPath>\n </defs>\n</svg>\n",
      "text/plain": [
       "<Figure size 1000x600 with 1 Axes>"
      ]
     },
     "metadata": {},
     "output_type": "display_data"
    }
   ],
   "source": [
    "# Вычисление среднего возраста по классу и полу\n",
    "avg_age = data.groupby(['Pclass', 'Sex'])['Age'].mean().reset_index()\n",
    "\n",
    "# Создание графика\n",
    "plt.figure(figsize=(10, 6))\n",
    "sns.barplot(x='Pclass', y='Age', hue='Sex', data=avg_age)\n",
    "plt.title('Средний возраст по классу и полу')\n",
    "plt.xlabel('Класс')\n",
    "plt.ylabel('Средний возраст')\n",
    "plt.show()\n"
   ]
  },
  {
   "cell_type": "markdown",
   "metadata": {},
   "source": [
    "\n",
    "Author: [Yury Kashnitsky](https://yorko.github.io). This material is subject to the terms and conditions of the [Creative Commons CC BY-NC-SA 4.0](https://creativecommons.org/licenses/by-nc-sa/4.0/) license. Free use is permitted for any non-commercial purpose."
   ]
  }
 ],
 "metadata": {
  "anaconda-cloud": {},
  "kernelspec": {
   "display_name": "venv",
   "language": "python",
   "name": "python3"
  },
  "language_info": {
   "codemirror_mode": {
    "name": "ipython",
    "version": 3
   },
   "file_extension": ".py",
   "mimetype": "text/x-python",
   "name": "python",
   "nbconvert_exporter": "python",
   "pygments_lexer": "ipython3",
   "version": "3.12.0"
  },
  "name": "seminar02_practice_pandas_titanic.ipynb",
  "vscode": {
   "interpreter": {
    "hash": "b625ad7f8370019a862160d48727f8416a4157608d86618b932a5f14dafd9c06"
   }
  }
 },
 "nbformat": 4,
 "nbformat_minor": 4
}
